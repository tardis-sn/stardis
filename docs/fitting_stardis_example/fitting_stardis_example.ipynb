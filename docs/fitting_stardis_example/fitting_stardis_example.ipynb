{
 "cells": [
  {
   "cell_type": "markdown",
   "id": "e10b2d14",
   "metadata": {},
   "source": [
    "# Fittting STARDIS Example"
   ]
  },
  {
   "cell_type": "markdown",
   "id": "cfeb7cea",
   "metadata": {},
   "source": [
    "## Import Necessary Code"
   ]
  },
  {
   "cell_type": "code",
   "execution_count": 1,
   "id": "e18ba07b",
   "metadata": {},
   "outputs": [
    {
     "data": {
      "application/vnd.jupyter.widget-view+json": {
       "model_id": "0b17caa311104158b45663aa04ef0a35",
       "version_major": 2,
       "version_minor": 0
      },
      "text/plain": [
       "Iterations:          0/? [00:00<?, ?it/s]"
      ]
     },
     "metadata": {},
     "output_type": "display_data"
    },
    {
     "data": {
      "application/vnd.jupyter.widget-view+json": {
       "model_id": "055d3dac57f04ddb8cbf3052574711f0",
       "version_major": 2,
       "version_minor": 0
      },
      "text/plain": [
       "Packets:             0/? [00:00<?, ?it/s]"
      ]
     },
     "metadata": {},
     "output_type": "display_data"
    }
   ],
   "source": [
    "import numpy as np\n",
    "import matplotlib.pyplot as plt\n",
    "import pandas as pd\n",
    "\n",
    "from stardis.base import run_stardis\n",
    "\n",
    "from astropy import units as u\n",
    "from astropy.constants import R_sun, au\n",
    "\n",
    "from scipy.ndimage import gaussian_filter1d\n",
    "from scipy.optimize import curve_fit"
   ]
  },
  {
   "cell_type": "markdown",
   "id": "4ee9a5df",
   "metadata": {},
   "source": [
    "## What's in this Notebook?"
   ]
  },
  {
   "cell_type": "markdown",
   "id": "6329af7f",
   "metadata": {},
   "source": [
    "As you use STARDIS, you may be interested in comparing or fitting a STARDIS simulation to an observed spectra, whether thats for verifying your stellar model or learning more about the star your comparing it to. While there are many ways you could go about doing this, in this notebook is an example of one possible use case of STARDIS, where we will be creating a function to find what abundances of select elements result in the best fitting STARDIS simulation.\n",
    "\n",
    "This example is designed to highlight one of the many, many uses of STARDIS, rather than be a guide on the best way to go about fitting a simulation. To demonstrating this, we will be doing the following:\n",
    "\n",
    "- Reading in and cleaning observed spectra data\n",
    "- Creating a function to take a rolling average of a spectra\n",
    "- Fitting a STARDIS simulation to observed data using Curve_Fit\n",
    "- Graphing out best fit simulation, displaying our error margins"
   ]
  },
  {
   "cell_type": "markdown",
   "id": "4ab576bf",
   "metadata": {},
   "source": [
    "## Reading in Observed Data"
   ]
  },
  {
   "cell_type": "markdown",
   "id": "dd3fea24",
   "metadata": {},
   "source": [
    "For this example, we will be using data from our own sun to keep it simple. Specifically we will be using the data from C. Gueymard's [\"Revised composite extraterrestrial spectrum based on recent solar irradiance observations\"](https://www.sciencedirect.com/science/article/pii/S0038092X1830433X). "
   ]
  },
  {
   "cell_type": "code",
   "execution_count": 2,
   "id": "d96c09cc",
   "metadata": {},
   "outputs": [],
   "source": [
    "solar_irr_df = pd.read_csv('solar_irradiance_data.txt', sep='\\\\s+', skiprows=12, names=[\"Wavelength\", \"Irradiance\", \"Std_Dev\", \"Coeff_Var\"]) #we won't be using 'Coeff_Var'\n",
    "\n",
    "solar_irr_df.replace(-999, pd.NA, inplace=True)\n",
    "\n",
    "solar_irr_df.dropna(axis = 0, how='any', inplace=True)\n",
    "\n",
    "fractional_std = np.array(solar_irr_df[\"Std_Dev\"] / solar_irr_df[\"Irradiance\"], dtype=float)"
   ]
  },
  {
   "cell_type": "markdown",
   "id": "c741c0c9",
   "metadata": {},
   "source": [
    "In addition to this standard data cleaning, we will be accounting for the fact that STARDIS simulations show the stellar spectrum as it is at a star's surface, but this data is quite unfortunately not taken from the surface of the sun, but instead from approximatly 1 AU away. While later we will be normalizing both this data and our STARDIS output spectrum, we will use inverse square law here to ensure simpler comparison between out simulation and data."
   ]
  },
  {
   "cell_type": "code",
   "execution_count": 3,
   "id": "1d049957",
   "metadata": {},
   "outputs": [],
   "source": [
    "# Convert the 'Wavelength' column to a Quantity with units of millimeters, then convert to Angstroms\n",
    "wavelength_quantity = u.Quantity(solar_irr_df['Wavelength'], u.nm)\n",
    "solarIrr_Wavelength = wavelength_quantity.to(u.AA)\n",
    "\n",
    "# Similarly for the 'Irradiance' column:\n",
    "irradiance_quantity = u.Quantity(solar_irr_df['Irradiance'], u.W / u.m**2 / u.nm)\n",
    "solar_Irr = irradiance_quantity.to(u.erg / u.s / u.cm**2 / u.AA)\n",
    "\n",
    "# Apply inverse square law conversion\n",
    "solar_Irr = solar_Irr * ((au) / (R_sun))**2"
   ]
  },
  {
   "cell_type": "markdown",
   "id": "41bbb298",
   "metadata": {},
   "source": [
    "## Rolling Normalization Function"
   ]
  },
  {
   "cell_type": "markdown",
   "id": "8a317ac9",
   "metadata": {},
   "source": [
    "For this example, we would like the absorption lines of different elements to be the basis of our fitting, giving less attention to any possible difference in continuum between the STARDIS spectra and true spectra. While there are several ways one could compare absorption features like these, such as comparing the Full Width Half Max between simulated and observed, for our purposes we will just be comparing the normalized spectra. To accomplish this normalization, we will use this function below:"
   ]
  },
  {
   "cell_type": "code",
   "execution_count": 4,
   "id": "f96d9a75",
   "metadata": {},
   "outputs": [],
   "source": [
    "def normalize_flux(flux_arr, wavelengths, window=50 * u.Angstrom, std_err=None):\n",
    "    # Trim the boundaries\n",
    "    mask = (wavelengths >= (wavelengths.min() + window)) & (wavelengths <= (wavelengths.max() - window))\n",
    "    target_flux_arr = flux_arr[mask]\n",
    "    target_wavelengths = wavelengths[mask]\n",
    "\n",
    "    if std_err is not None:\n",
    "        std_err_masked = std_err[mask]\n",
    "\n",
    "    n = len(flux_arr)\n",
    "    m = len(target_flux_arr)\n",
    "    \n",
    "    # Preallocate the normalized flux array\n",
    "    normalized_flux = np.empty(m)\n",
    "\n",
    "    # Pre-convert wavelengths to float for faster arithmetic\n",
    "    wavelengths_float = wavelengths.to(u.Angstrom).value\n",
    "    target_wavelengths_float = target_wavelengths.to(u.Angstrom).value\n",
    "\n",
    "    start_idx = 0\n",
    "    end_idx = 0\n",
    "\n",
    "    for i, wave in enumerate(target_wavelengths_float):\n",
    "        lower_bound = wave - window.value\n",
    "        upper_bound = wave + window.value\n",
    "\n",
    "        # Move the start index forward to maintain window\n",
    "        while start_idx < n and wavelengths_float[start_idx] < lower_bound:\n",
    "            start_idx += 1\n",
    "        # Move the end index forward to include up to upper_bound\n",
    "        while end_idx < n and wavelengths_float[end_idx] <= upper_bound:\n",
    "            end_idx += 1\n",
    "\n",
    "        window_flux = flux_arr[start_idx:end_idx]\n",
    "        mean_flux = np.mean(window_flux)\n",
    "        normalized_flux[i] = target_flux_arr[i] / mean_flux\n",
    "\n",
    "    if std_err is not None:\n",
    "        return normalized_flux, target_wavelengths, std_err_masked\n",
    "\n",
    "    return normalized_flux, target_wavelengths"
   ]
  },
  {
   "cell_type": "markdown",
   "id": "b2410557",
   "metadata": {},
   "source": [
    "This function is going to by default take a 50 Angstrom window around each flux data point, and normalize that point use the mean of that window."
   ]
  },
  {
   "cell_type": "markdown",
   "id": "c4a46f69",
   "metadata": {},
   "source": [
    "## Fitting Function"
   ]
  },
  {
   "cell_type": "markdown",
   "id": "890f709d",
   "metadata": {},
   "source": [
    "As we are going to be investigating how we can change the abundance of different elements in our stellar model to best fit our simulation, it may be useful to reference the [Changing Parameters documentation](../Changing_Parameters/Changing_Parameters.ipynb) to see how we can change these abundances on the fly when running STARDIS. \n",
    "\n",
    "While you can reference the comments and docstring of this function for an idea of how it works, in short it will take a specified range of wavelengths of your normalized observed data before using SciPy's `curve_fit` to create many simulations, each time changing our abundance factors to try and find the factors that make our best fitting model. \n",
    "\n",
    "It is also to note we use SciPy's `gaussian_filter1d` here to emulate the instrumental effects and spectral resolution of the telescopes/detectors used to collect this data. The sigma used here, 616, was chosen by both visually comparing our resulting STARDIS spectra to our observed data as well as by running a fitting script to find a 'best' sigma. For a more rigorous analysis using `gaussian_filter1d` or similar function, you would want to consider the telescope(s) used to collect your data and calculate your spectra resolution to inform your choice of sigma."
   ]
  },
  {
   "cell_type": "code",
   "execution_count": 5,
   "id": "1a011b64",
   "metadata": {},
   "outputs": [],
   "source": [
    "def curve_fit_rescaling(obs_wavelengths, obs_flux, obs_fractional_std, elements, bounds=None, window=50 * u.Angstrom):\n",
    "    \"\"\"\n",
    "    Fits STARDIS nuclide rescaling factors to observed spectral flux using curve fitting.\n",
    "\n",
    "    Parameters:\n",
    "    -----------\n",
    "    obs_wavelengths : Quantity array\n",
    "        Wavelengths of the observed spectrum (with units, e.g., Angstrom).\n",
    "\n",
    "    obs_flux : array-like\n",
    "        Observed flux values corresponding to the input wavelengths.\n",
    "\n",
    "    obs_fractional_std : array-like\n",
    "        Fractional standard deviation (error / flux) for each observed point.\n",
    "\n",
    "    elements : list of str\n",
    "        List of element symbols (e.g., [\"Fe\", \"Mg\"]) to include in the rescaling.\n",
    "\n",
    "    bounds : tuple, optional\n",
    "        Tuple specifying the fitting region (start, end) in Angstroms.\n",
    "        If None, the full range of obs_wavelengths will be used.\n",
    "\n",
    "    window : Quantity, optional\n",
    "        Smoothing/normalization window for flux normalization (default is 50 Angstrom).\n",
    "\n",
    "    Returns:\n",
    "    --------\n",
    "    optimal_factors : dict\n",
    "        Best-fit rescaling factors for each element.\n",
    "\n",
    "    fitting_sigmas_dict : dict\n",
    "        Standard deviations (1σ uncertainties) of the fitted factors.\n",
    "\n",
    "    lower_uncertainty : dict\n",
    "        Dictionary of lower 1σ bounds: factor - sigma for each element.\n",
    "\n",
    "    upper_uncertainty : dict\n",
    "        Dictionary of upper 1σ bounds: factor + sigma for each element.\n",
    "    \"\"\"\n",
    "\n",
    "    # --- Define wavelength fitting bounds ---\n",
    "    if bounds is None:\n",
    "        left_bound = obs_wavelengths[0].value\n",
    "        right_bound = obs_wavelengths[-1].value\n",
    "    else:\n",
    "        left_bound = bounds[0]\n",
    "        right_bound = bounds[1]\n",
    "\n",
    "    # --- Normalize observed flux ---\n",
    "    obs_flux, obs_wavelengths, obs_fractional_std = normalize_flux(\n",
    "        flux_arr=obs_flux,\n",
    "        wavelengths=obs_wavelengths,\n",
    "        window=window,\n",
    "        std_err=obs_fractional_std\n",
    "    )\n",
    "    obs_flux = np.array(obs_flux)\n",
    "\n",
    "    # --- Create tracing wavelength grid for simulation ---\n",
    "    step = 0.01\n",
    "    num_points = int((right_bound - left_bound) / step) + 1\n",
    "    tracing_lambdas = np.linspace(\n",
    "        (left_bound - window.value),\n",
    "        (right_bound + window.value),\n",
    "        num_points\n",
    "    ) * u.Angstrom\n",
    "\n",
    "    # --- Mask observed data to fitting bounds ---\n",
    "    mask = (obs_wavelengths.value >= left_bound) & (obs_wavelengths.value <= right_bound)\n",
    "    obs_flux_m = obs_flux[mask]\n",
    "    obs_wavelengths_m = obs_wavelengths[mask].value\n",
    "    obs_fractional_std_m = obs_fractional_std[mask]\n",
    "\n",
    "    # --- Define simulation function for curve fitting ---\n",
    "    def Stardis_simulation(wavelengths, *factors):\n",
    "        factor_dict = dict(zip(elements, factors))\n",
    "        print(f\"Running STARDIS for factors: {factor_dict}\")\n",
    "\n",
    "        sim = run_stardis(\n",
    "            'sun_vald.yml',\n",
    "            tracing_lambdas,\n",
    "            add_config_dict={\n",
    "                'input_model.nuclide_rescaling_dict': factor_dict,\n",
    "            }\n",
    "        )\n",
    "        sim_spectra_smoothed = gaussian_filter1d(sim.spectrum_lambda, 616)\n",
    "        sim_spectra_norm, sim_wavelength_norm = normalize_flux(\n",
    "            sim_spectra_smoothed, sim.lambdas, window=window\n",
    "        )\n",
    "        sim_wavelength_norm = sim_wavelength_norm.value\n",
    "\n",
    "        interpolated_flux = np.interp(wavelengths, sim_wavelength_norm, sim_spectra_norm)\n",
    "        return interpolated_flux\n",
    "\n",
    "    # --- Set initial guesses and bounds for each element ---\n",
    "    initial_guess = [1.0] * len(elements)\n",
    "    lower_bounds = [0.5] * len(elements)\n",
    "    upper_bounds = [1.5] * len(elements)\n",
    "\n",
    "    # --- Perform curve fitting ---\n",
    "    popt, pcov = curve_fit(\n",
    "        Stardis_simulation,\n",
    "        xdata=np.array(obs_wavelengths_m),\n",
    "        ydata=np.array(obs_flux_m),\n",
    "        p0=initial_guess,\n",
    "        bounds=(lower_bounds, upper_bounds),\n",
    "        sigma=np.array(obs_fractional_std_m * obs_flux_m),\n",
    "        absolute_sigma=True,\n",
    "    )\n",
    "\n",
    "    # --- Extract optimal factors and uncertainties ---\n",
    "    fitting_sigmas = np.sqrt(np.diag(pcov))\n",
    "    optimal_factors = dict(zip(elements, popt))\n",
    "    fitting_sigmas_dict = dict(zip(elements, fitting_sigmas))\n",
    "\n",
    "    lower_uncertainty = {el: val - sig for el, val, sig in zip(elements, popt, fitting_sigmas)}\n",
    "    upper_uncertainty = {el: val + sig for el, val, sig in zip(elements, popt, fitting_sigmas)}\n",
    "\n",
    "    return optimal_factors, fitting_sigmas_dict, lower_uncertainty, upper_uncertainty"
   ]
  },
  {
   "cell_type": "markdown",
   "id": "a8a5a0e8",
   "metadata": {},
   "source": [
    "## Plotting STARDIS Spectra"
   ]
  },
  {
   "cell_type": "markdown",
   "id": "6b6878a4",
   "metadata": {},
   "source": [
    "To see how our fitting function worked, here is the function we will use our `curve_fit_rescaling` function to create and plot a fitted STARDIS spectra. To show the error on our found abundance factors, we will be finding the spectra that result from using all factors 1 standard deviation above out 'best fit' factors and 1 standard deviation below them."
   ]
  },
  {
   "cell_type": "code",
   "execution_count": 6,
   "id": "73a293e3",
   "metadata": {},
   "outputs": [],
   "source": [
    "def plot_stardis_fit(elements, bounds, window):\n",
    "    \"\"\"\n",
    "    Fits STARDIS model to observed solar irradiance and plots simulation vs observation with uncertainty.\n",
    "\n",
    "    Parameters:\n",
    "    -----------\n",
    "    elements : list of str\n",
    "        List of element symbols to include in the nuclide rescaling (e.g., ['Mg', 'Fe']).\n",
    "\n",
    "    bounds : tuple\n",
    "        Tuple of wavelength range to fit (start_wavelength, end_wavelength) in Angstroms.\n",
    "\n",
    "    window : Quantity\n",
    "        Smoothing window for normalization (e.g., 50 * u.Angstrom).\n",
    "\n",
    "    Returns:\n",
    "    --------\n",
    "    None\n",
    "    Prints optimal fit parameters and shows a plot comparing STARDIS output with observed data.\n",
    "    \"\"\"\n",
    "\n",
    "    left_bound = bounds[0]\n",
    "    right_bound = bounds[1]\n",
    "    step = 0.01\n",
    "    num_points = int((right_bound - left_bound) / step) + 1\n",
    "\n",
    "    tracing_lambdas = np.linspace(\n",
    "        left_bound - window.value,\n",
    "        right_bound + window.value,\n",
    "        num_points\n",
    "    ) * u.Angstrom\n",
    "\n",
    "    def run_and_process_stardis(factor_dict, tracing_lambdas):\n",
    "        \"\"\"Runs STARDIS, smooths and normalizes output, and returns wavelengths and flux.\"\"\"\n",
    "        sim = run_stardis(\n",
    "            'sun_vald.yml',\n",
    "            tracing_lambdas,\n",
    "            add_config_dict={'input_model.nuclide_rescaling_dict': factor_dict}\n",
    "        )\n",
    "        smoothed_flux = gaussian_filter1d(sim.spectrum_lambda, 616)\n",
    "        norm_flux, norm_wavelengths = normalize_flux(smoothed_flux, sim.lambdas, window=window)\n",
    "        return norm_wavelengths.value, norm_flux\n",
    "\n",
    "    def prepare_observed_data(wavelengths, flux, std_err):\n",
    "        \"\"\"Normalizes and masks observed solar irradiance data.\"\"\"\n",
    "        norm_flux, norm_wav, norm_std = normalize_flux(\n",
    "            flux_arr=flux,\n",
    "            wavelengths=wavelengths,\n",
    "            window=window,\n",
    "            std_err=std_err\n",
    "        )\n",
    "        mask = (norm_wav.value >= left_bound) & (norm_wav.value <= right_bound)\n",
    "        return norm_wav[mask], norm_flux[mask], norm_std[mask]\n",
    "\n",
    "    # Run curve fitting\n",
    "    factor_dict, factor_sigmas, lower_factors, upper_factors = curve_fit_rescaling(\n",
    "        obs_wavelengths=solarIrr_Wavelength,\n",
    "        obs_flux=solar_Irr,\n",
    "        obs_fractional_std=fractional_std,\n",
    "        elements=elements,\n",
    "        bounds=bounds,\n",
    "        window=window\n",
    "    )\n",
    "\n",
    "    # Simulate STARDIS for best fit and ±1σ bounds\n",
    "    wav_sim, flux_sim = run_and_process_stardis(factor_dict, tracing_lambdas)\n",
    "    wav_lower, flux_lower = run_and_process_stardis(lower_factors, tracing_lambdas)\n",
    "    wav_upper, flux_upper = run_and_process_stardis(upper_factors, tracing_lambdas)\n",
    "\n",
    "    # Prepare observed solar irradiance\n",
    "    wav_obs, flux_obs, std_obs = prepare_observed_data(solarIrr_Wavelength, solar_Irr, fractional_std)\n",
    "\n",
    "    # Plotting\n",
    "    plt.figure(figsize=(10, 6))\n",
    "    plt.plot(wav_sim, flux_sim, label='STARDIS Simulation', color='blue')\n",
    "    plt.fill_between(wav_sim, flux_lower, flux_upper, color='darkgrey', alpha=0.4, label='1 Sigma Uncertainty Range')\n",
    "\n",
    "    plt.errorbar(\n",
    "        wav_obs, flux_obs, yerr=std_obs * flux_obs,\n",
    "        fmt='o', capsize=3, elinewidth=1.2, markeredgewidth=0.8,\n",
    "        markersize=5, alpha=0.8, color='darkorange', ecolor='gray',\n",
    "        label='Solar Irradiance'\n",
    "    )\n",
    "\n",
    "    plt.xlabel('Wavelength (Å)')\n",
    "    plt.ylabel('Normalized Flux')\n",
    "    plt.title(f'STARDIS Simulation (fitted for {', '.join(factor_dict.keys())}) vs Solar Irradiance')\n",
    "    plt.legend()\n",
    "    plt.tight_layout()\n",
    "    plt.show()\n",
    "\n",
    "    # Print results\n",
    "    print(\"Optimal factors:\")\n",
    "    for element in elements:\n",
    "        print(f\"{element}: {factor_dict[element]:.4f} ± {factor_sigmas[element]:.4f} \"\n",
    "              f\"(lower: {lower_factors[element]:.4f}, upper: {upper_factors[element]:.4f})\")"
   ]
  },
  {
   "cell_type": "markdown",
   "id": "e4d5ab67",
   "metadata": {},
   "source": [
    "## Results"
   ]
  },
  {
   "cell_type": "markdown",
   "id": "5cc1d9c1",
   "metadata": {},
   "source": [
    "Now its time to see how our functions turned out! remember, this example isn't designed to be the best way to go about fitting metalicity or element abundances, but as instead an example of the uses of STARDIS and to maybe give you inspiration on or a starting place for your own work.\n",
    "\n",
    "Also note, as we are using a MARCS solar model designed to be that of the sun, we would expect our factors to be around 1, as the model should not be too far off. now without further adieu..."
   ]
  },
  {
   "cell_type": "code",
   "execution_count": 7,
   "id": "5690f3e4",
   "metadata": {},
   "outputs": [
    {
     "name": "stdout",
     "output_type": "stream",
     "text": [
      "Running STARDIS for factors: {'Mg': 1.0, 'Fe': 1.0}\n"
     ]
    },
    {
     "name": "stderr",
     "output_type": "stream",
     "text": [
      "WARNING: UnitsWarning: 'erg/cm2/s' contains multiple slashes, which is discouraged by the FITS standard [astropy.units.format.generic]\n",
      "WARNING: UnitsWarning: 'erg/cm2/s' contains multiple slashes, which is discouraged by the FITS standard [astropy.units.format.generic]\n",
      "WARNING:astropy:UnitsWarning: 'erg/cm2/s' contains multiple slashes, which is discouraged by the FITS standard\n"
     ]
    },
    {
     "name": "stdout",
     "output_type": "stream",
     "text": [
      "Running STARDIS for factors: {'Mg': 1.0000000149011612, 'Fe': 1.0}\n",
      "Running STARDIS for factors: {'Mg': 1.0, 'Fe': 1.0000000149011612}\n"
     ]
    },
    {
     "name": "stderr",
     "output_type": "stream",
     "text": [
      "WARNING: UnitsWarning: 'erg/cm2/s' contains multiple slashes, which is discouraged by the FITS standard [astropy.units.format.generic]\n",
      "WARNING:astropy:UnitsWarning: 'erg/cm2/s' contains multiple slashes, which is discouraged by the FITS standard\n"
     ]
    },
    {
     "name": "stdout",
     "output_type": "stream",
     "text": [
      "Running STARDIS for factors: {'Mg': 0.9181741440390521, 'Fe': 1.0572849645998363}\n"
     ]
    },
    {
     "name": "stderr",
     "output_type": "stream",
     "text": [
      "WARNING: UnitsWarning: 'erg/cm2/s' contains multiple slashes, which is discouraged by the FITS standard [astropy.units.format.generic]\n",
      "WARNING:astropy:UnitsWarning: 'erg/cm2/s' contains multiple slashes, which is discouraged by the FITS standard\n"
     ]
    },
    {
     "name": "stdout",
     "output_type": "stream",
     "text": [
      "Running STARDIS for factors: {'Mg': 0.9181741589402133, 'Fe': 1.0572849645998363}\n"
     ]
    },
    {
     "name": "stderr",
     "output_type": "stream",
     "text": [
      "WARNING: UnitsWarning: 'erg/cm2/s' contains multiple slashes, which is discouraged by the FITS standard [astropy.units.format.generic]\n",
      "WARNING:astropy:UnitsWarning: 'erg/cm2/s' contains multiple slashes, which is discouraged by the FITS standard\n"
     ]
    },
    {
     "name": "stdout",
     "output_type": "stream",
     "text": [
      "Running STARDIS for factors: {'Mg': 0.9181741440390521, 'Fe': 1.05728498035461}\n"
     ]
    },
    {
     "name": "stderr",
     "output_type": "stream",
     "text": [
      "WARNING: UnitsWarning: 'erg/cm2/s' contains multiple slashes, which is discouraged by the FITS standard [astropy.units.format.generic]\n",
      "WARNING:astropy:UnitsWarning: 'erg/cm2/s' contains multiple slashes, which is discouraged by the FITS standard\n"
     ]
    },
    {
     "name": "stdout",
     "output_type": "stream",
     "text": [
      "Running STARDIS for factors: {'Mg': 0.9038195623407479, 'Fe': 1.0622907718065993}\n"
     ]
    },
    {
     "name": "stderr",
     "output_type": "stream",
     "text": [
      "WARNING: UnitsWarning: 'erg/cm2/s' contains multiple slashes, which is discouraged by the FITS standard [astropy.units.format.generic]\n",
      "WARNING:astropy:UnitsWarning: 'erg/cm2/s' contains multiple slashes, which is discouraged by the FITS standard\n",
      "WARNING: UnitsWarning: 'erg/cm2/s' contains multiple slashes, which is discouraged by the FITS standard [astropy.units.format.generic]\n",
      "WARNING:astropy:UnitsWarning: 'erg/cm2/s' contains multiple slashes, which is discouraged by the FITS standard\n"
     ]
    },
    {
     "name": "stdout",
     "output_type": "stream",
     "text": [
      "Running STARDIS for factors: {'Mg': 0.9038195772419091, 'Fe': 1.0622907718065993}\n",
      "Running STARDIS for factors: {'Mg': 0.9038195623407479, 'Fe': 1.0622907876359653}\n"
     ]
    },
    {
     "name": "stderr",
     "output_type": "stream",
     "text": [
      "WARNING: UnitsWarning: 'erg/cm2/s' contains multiple slashes, which is discouraged by the FITS standard [astropy.units.format.generic]\n",
      "WARNING:astropy:UnitsWarning: 'erg/cm2/s' contains multiple slashes, which is discouraged by the FITS standard\n"
     ]
    },
    {
     "name": "stdout",
     "output_type": "stream",
     "text": [
      "Running STARDIS for factors: {'Mg': 0.9033081562958316, 'Fe': 1.0621900871947525}\n"
     ]
    },
    {
     "name": "stderr",
     "output_type": "stream",
     "text": [
      "WARNING: UnitsWarning: 'erg/cm2/s' contains multiple slashes, which is discouraged by the FITS standard [astropy.units.format.generic]\n",
      "WARNING:astropy:UnitsWarning: 'erg/cm2/s' contains multiple slashes, which is discouraged by the FITS standard\n"
     ]
    },
    {
     "name": "stdout",
     "output_type": "stream",
     "text": [
      "Running STARDIS for factors: {'Mg': 0.9033081711969928, 'Fe': 1.0621900871947525}\n"
     ]
    },
    {
     "name": "stderr",
     "output_type": "stream",
     "text": [
      "WARNING: UnitsWarning: 'erg/cm2/s' contains multiple slashes, which is discouraged by the FITS standard [astropy.units.format.generic]\n",
      "WARNING:astropy:UnitsWarning: 'erg/cm2/s' contains multiple slashes, which is discouraged by the FITS standard\n"
     ]
    },
    {
     "name": "stdout",
     "output_type": "stream",
     "text": [
      "Running STARDIS for factors: {'Mg': 0.9033081562958316, 'Fe': 1.0621901030226182}\n"
     ]
    },
    {
     "name": "stderr",
     "output_type": "stream",
     "text": [
      "WARNING: UnitsWarning: 'erg/cm2/s' contains multiple slashes, which is discouraged by the FITS standard [astropy.units.format.generic]\n",
      "WARNING:astropy:UnitsWarning: 'erg/cm2/s' contains multiple slashes, which is discouraged by the FITS standard\n"
     ]
    },
    {
     "name": "stdout",
     "output_type": "stream",
     "text": [
      "Running STARDIS for factors: {'Mg': 0.9033291329307168, 'Fe': 1.0622174907390654}\n"
     ]
    },
    {
     "name": "stderr",
     "output_type": "stream",
     "text": [
      "WARNING: UnitsWarning: 'erg/cm2/s' contains multiple slashes, which is discouraged by the FITS standard [astropy.units.format.generic]\n",
      "WARNING:astropy:UnitsWarning: 'erg/cm2/s' contains multiple slashes, which is discouraged by the FITS standard\n"
     ]
    },
    {
     "name": "stdout",
     "output_type": "stream",
     "text": [
      "Running STARDIS for factors: {'Mg': 0.9033152468485647, 'Fe': 1.062195584845369}\n"
     ]
    },
    {
     "name": "stderr",
     "output_type": "stream",
     "text": [
      "WARNING: UnitsWarning: 'erg/cm2/s' contains multiple slashes, which is discouraged by the FITS standard [astropy.units.format.generic]\n",
      "WARNING:astropy:UnitsWarning: 'erg/cm2/s' contains multiple slashes, which is discouraged by the FITS standard\n"
     ]
    },
    {
     "name": "stdout",
     "output_type": "stream",
     "text": [
      "Running STARDIS for factors: {'Mg': 0.9033152617497259, 'Fe': 1.062195584845369}\n"
     ]
    },
    {
     "name": "stderr",
     "output_type": "stream",
     "text": [
      "WARNING: UnitsWarning: 'erg/cm2/s' contains multiple slashes, which is discouraged by the FITS standard [astropy.units.format.generic]\n",
      "WARNING:astropy:UnitsWarning: 'erg/cm2/s' contains multiple slashes, which is discouraged by the FITS standard\n"
     ]
    },
    {
     "name": "stdout",
     "output_type": "stream",
     "text": [
      "Running STARDIS for factors: {'Mg': 0.9033152468485647, 'Fe': 1.0621956006733166}\n"
     ]
    },
    {
     "name": "stderr",
     "output_type": "stream",
     "text": [
      "WARNING: UnitsWarning: 'erg/cm2/s' contains multiple slashes, which is discouraged by the FITS standard [astropy.units.format.generic]\n",
      "WARNING:astropy:UnitsWarning: 'erg/cm2/s' contains multiple slashes, which is discouraged by the FITS standard\n"
     ]
    },
    {
     "name": "stdout",
     "output_type": "stream",
     "text": [
      "Running STARDIS for factors: {'Mg': 0.9033156537294925, 'Fe': 1.0621932978611863}\n"
     ]
    },
    {
     "name": "stderr",
     "output_type": "stream",
     "text": [
      "WARNING: UnitsWarning: 'erg/cm2/s' contains multiple slashes, which is discouraged by the FITS standard [astropy.units.format.generic]\n",
      "WARNING:astropy:UnitsWarning: 'erg/cm2/s' contains multiple slashes, which is discouraged by the FITS standard\n"
     ]
    },
    {
     "name": "stdout",
     "output_type": "stream",
     "text": [
      "Running STARDIS for factors: {'Mg': 0.9033153509087255, 'Fe': 1.0621950134962101}\n"
     ]
    },
    {
     "name": "stderr",
     "output_type": "stream",
     "text": [
      "WARNING: UnitsWarning: 'erg/cm2/s' contains multiple slashes, which is discouraged by the FITS standard [astropy.units.format.generic]\n",
      "WARNING:astropy:UnitsWarning: 'erg/cm2/s' contains multiple slashes, which is discouraged by the FITS standard\n"
     ]
    },
    {
     "name": "stdout",
     "output_type": "stream",
     "text": [
      "Running STARDIS for factors: {'Mg': 0.9033152730116564, 'Fe': 1.06219544203356}\n"
     ]
    },
    {
     "name": "stderr",
     "output_type": "stream",
     "text": [
      "WARNING: UnitsWarning: 'erg/cm2/s' contains multiple slashes, which is discouraged by the FITS standard [astropy.units.format.generic]\n",
      "WARNING:astropy:UnitsWarning: 'erg/cm2/s' contains multiple slashes, which is discouraged by the FITS standard\n"
     ]
    },
    {
     "name": "stdout",
     "output_type": "stream",
     "text": [
      "Running STARDIS for factors: {'Mg': 0.9033152533986193, 'Fe': 1.06219554914402}\n"
     ]
    },
    {
     "name": "stderr",
     "output_type": "stream",
     "text": [
      "WARNING: UnitsWarning: 'erg/cm2/s' contains multiple slashes, which is discouraged by the FITS standard [astropy.units.format.generic]\n",
      "WARNING:astropy:UnitsWarning: 'erg/cm2/s' contains multiple slashes, which is discouraged by the FITS standard\n"
     ]
    },
    {
     "name": "stdout",
     "output_type": "stream",
     "text": [
      "Running STARDIS for factors: {'Mg': 0.9033152484866589, 'Fe': 1.0621955759201323}\n"
     ]
    },
    {
     "name": "stderr",
     "output_type": "stream",
     "text": [
      "WARNING: UnitsWarning: 'erg/cm2/s' contains multiple slashes, which is discouraged by the FITS standard [astropy.units.format.generic]\n",
      "WARNING:astropy:UnitsWarning: 'erg/cm2/s' contains multiple slashes, which is discouraged by the FITS standard\n",
      "WARNING: UnitsWarning: 'erg/cm2/s' contains multiple slashes, which is discouraged by the FITS standard [astropy.units.format.generic]\n",
      "WARNING:astropy:UnitsWarning: 'erg/cm2/s' contains multiple slashes, which is discouraged by the FITS standard\n",
      "WARNING: UnitsWarning: 'erg/cm2/s' contains multiple slashes, which is discouraged by the FITS standard [astropy.units.format.generic]\n",
      "WARNING:astropy:UnitsWarning: 'erg/cm2/s' contains multiple slashes, which is discouraged by the FITS standard\n",
      "WARNING: UnitsWarning: 'erg/cm2/s' contains multiple slashes, which is discouraged by the FITS standard [astropy.units.format.generic]\n",
      "WARNING:astropy:UnitsWarning: 'erg/cm2/s' contains multiple slashes, which is discouraged by the FITS standard\n"
     ]
    },
    {
     "data": {
      "image/png": "[encoded data removed]",
      "text/plain": [
       "<Figure size 1000x600 with 1 Axes>"
      ]
     },
     "metadata": {},
     "output_type": "display_data"
    },
    {
     "name": "stdout",
     "output_type": "stream",
     "text": [
      "Optimal factors:\n",
      "Mg: 0.9033 ± 0.1367 (lower: 0.7666, upper: 1.0400)\n",
      "Fe: 1.0622 ± 0.1706 (lower: 0.8916, upper: 1.2328)\n"
     ]
    }
   ],
   "source": [
    "plot_stardis_fit(elements=[\"Mg\", \"Fe\"], bounds=(5000, 5500), window=50 * u.Angstrom)"
   ]
  }
 ],
 "metadata": {
  "kernelspec": {
   "display_name": "stardis",
   "language": "python",
   "name": "python3"
  },
  "language_info": {
   "codemirror_mode": {
    "name": "ipython",
    "version": 3
   },
   "file_extension": ".py",
   "mimetype": "text/x-python",
   "name": "python",
   "nbconvert_exporter": "python",
   "pygments_lexer": "ipython3",
   "version": "3.12.4"
  }
 },
 "nbformat": 4,
 "nbformat_minor": 5
}
