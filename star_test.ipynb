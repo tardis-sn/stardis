{
 "cells": [
  {
   "cell_type": "code",
   "execution_count": 1,
   "metadata": {
    "ExecuteTime": {
     "end_time": "2022-01-12T00:13:43.539653Z",
     "start_time": "2022-01-12T00:13:40.679189Z"
    }
   },
   "outputs": [
    {
     "data": {
      "application/vnd.jupyter.widget-view+json": {
       "model_id": "",
       "version_major": 2,
       "version_minor": 0
      },
      "text/plain": [
       "Iterations:          0/? [00:00<?, ?it/s]"
      ]
     },
     "metadata": {},
     "output_type": "display_data"
    },
    {
     "data": {
      "application/vnd.jupyter.widget-view+json": {
       "model_id": "",
       "version_major": 2,
       "version_minor": 0
      },
      "text/plain": [
       "Packets:             0/? [00:00<?, ?it/s]"
      ]
     },
     "metadata": {},
     "output_type": "display_data"
    }
   ],
   "source": [
    "import numpy as np\n",
    "import pandas as pd\n",
    "import matplotlib.pyplot as plt\n",
    "from scipy import ndimage\n",
    "\n",
    "from tardis.simulation import Simulation\n",
    "from tardis.io.config_reader import Configuration\n",
    "from tardis.io.atom_data import AtomData\n",
    "\n",
    "from astropy import units as u, constants as const\n",
    "\n",
    "from stardis.plasma import AlphaLine, HMinusDensity, TracingNus, create_splasma\n",
    "from stardis.opacities import calc_tau_h_minus, calc_tau_e, calc_tau_nus, calc_hminus_density, calc_tau_photo\n",
    "from stardis.io import read_marcs_to_fv\n",
    "from stardis.raytrace import calc_weights"
   ]
  },
  {
   "cell_type": "code",
   "execution_count": 2,
   "metadata": {
    "ExecuteTime": {
     "end_time": "2022-01-12T00:13:43.898096Z",
     "start_time": "2022-01-12T00:13:43.889976Z"
    }
   },
   "outputs": [
    {
     "data": {
      "text/plain": [
       "(1000.0, 9000.0)"
      ]
     },
     "execution_count": 2,
     "metadata": {},
     "output_type": "execute_result"
    },
    {
     "data": {
      "image/png": "[encoded data removed]",
      "text/plain": [
       "<Figure size 432x288 with 1 Axes>"
      ]
     },
     "metadata": {
      "needs_background": "light"
     },
     "output_type": "display_data"
    }
   ],
   "source": [
    "sun_spec = pd.read_csv('data/solar_data/NewGuey2003.txt', skiprows=20, delim_whitespace=True, names=['wave', 'flux'])\n",
    "sun_spec['wave'] *= 10\n",
    "sun_spec['flux'] = u.Quantity(sun_spec['flux'].to_numpy(), \"W/(m2 nm)\").to(\"erg/(s cm2 AA)\").value\n",
    "plt.plot(sun_spec.wave, sun_spec.flux)\n",
    "plt.xlim(1000, 9000)"
   ]
  },
  {
   "cell_type": "markdown",
   "metadata": {},
   "source": [
    "## Model & Atomic Data"
   ]
  },
  {
   "cell_type": "code",
   "execution_count": 3,
   "metadata": {
    "ExecuteTime": {
     "end_time": "2022-01-12T00:14:18.350556Z",
     "start_time": "2022-01-12T00:14:17.854617Z"
    }
   },
   "outputs": [],
   "source": [
    "adata = AtomData.from_hdf('kurucz_cd23_chianti_H_He.h5')\n",
    "marcs_model_fv, marcs_abundances_all, temps = read_marcs_to_fv('data/marcs/sun.mod', adata, 30)\n",
    "adata.prepare_atom_data(marcs_abundances_all.index.tolist())"
   ]
  },
  {
   "cell_type": "markdown",
   "metadata": {},
   "source": [
    "## Plasma"
   ]
  },
  {
   "cell_type": "code",
   "execution_count": 4,
   "metadata": {
    "ExecuteTime": {
     "end_time": "2022-01-12T00:14:23.316905Z",
     "start_time": "2022-01-12T00:14:23.177261Z"
    }
   },
   "outputs": [],
   "source": [
    "tracing_wavelength = np.arange(1000, 10000, 10) * u.Angstrom\n",
    "tracing_nus = tracing_wavelength.to(u.Hz, u.spectral())\n",
    "\n",
    "splasma = create_splasma(marcs_model_fv, marcs_abundances_all, adata, tracing_nus)"
   ]
  },
  {
   "cell_type": "code",
   "execution_count": 5,
   "metadata": {},
   "outputs": [],
   "source": [
    "tw = tracing_nus.to(u.AA, u.spectral())"
   ]
  },
  {
   "cell_type": "markdown",
   "metadata": {},
   "source": [
    "## RT Calculation"
   ]
  },
  {
   "cell_type": "code",
   "execution_count": 6,
   "metadata": {},
   "outputs": [
    {
     "ename": "UnitConversionError",
     "evalue": "'' (dimensionless) and 'Angstrom' (length) are not convertible",
     "output_type": "error",
     "traceback": [
      "\u001b[0;31m---------------------------------------------------------------------------\u001b[0m",
      "\u001b[0;31mAttributeError\u001b[0m                            Traceback (most recent call last)",
      "File \u001b[0;32m~/anaconda3/envs/tardis/lib/python3.8/site-packages/astropy/units/quantity.py:1527\u001b[0m, in \u001b[0;36mQuantity._to_own_unit\u001b[0;34m(self, value, check_precision)\u001b[0m\n\u001b[1;32m   1526\u001b[0m \u001b[38;5;28;01mtry\u001b[39;00m:\n\u001b[0;32m-> 1527\u001b[0m     _value \u001b[38;5;241m=\u001b[39m \u001b[43mvalue\u001b[49m\u001b[38;5;241;43m.\u001b[39;49m\u001b[43mto_value\u001b[49m(\u001b[38;5;28mself\u001b[39m\u001b[38;5;241m.\u001b[39munit)\n\u001b[1;32m   1528\u001b[0m \u001b[38;5;28;01mexcept\u001b[39;00m \u001b[38;5;167;01mAttributeError\u001b[39;00m:\n\u001b[1;32m   1529\u001b[0m     \u001b[38;5;66;03m# We're not a Quantity.\u001b[39;00m\n\u001b[1;32m   1530\u001b[0m     \u001b[38;5;66;03m# First remove two special cases (with a fast test):\u001b[39;00m\n\u001b[1;32m   1531\u001b[0m     \u001b[38;5;66;03m# 1) Maybe masked printing? MaskedArray with quantities does not\u001b[39;00m\n\u001b[1;32m   1532\u001b[0m     \u001b[38;5;66;03m# work very well, but no reason to break even repr and str.\u001b[39;00m\n\u001b[1;32m   1533\u001b[0m     \u001b[38;5;66;03m# 2) np.ma.masked? useful if we're a MaskedQuantity.\u001b[39;00m\n",
      "File \u001b[0;32m~/anaconda3/envs/tardis/lib/python3.8/site-packages/pandas/core/generic.py:5274\u001b[0m, in \u001b[0;36mNDFrame.__getattr__\u001b[0;34m(self, name)\u001b[0m\n\u001b[1;32m   5273\u001b[0m     \u001b[38;5;28;01mreturn\u001b[39;00m \u001b[38;5;28mself\u001b[39m[name]\n\u001b[0;32m-> 5274\u001b[0m \u001b[38;5;28;01mreturn\u001b[39;00m \u001b[38;5;28;43mobject\u001b[39;49m\u001b[38;5;241;43m.\u001b[39;49m\u001b[38;5;21;43m__getattribute__\u001b[39;49m\u001b[43m(\u001b[49m\u001b[38;5;28;43mself\u001b[39;49m\u001b[43m,\u001b[49m\u001b[43m \u001b[49m\u001b[43mname\u001b[49m\u001b[43m)\u001b[49m\n",
      "\u001b[0;31mAttributeError\u001b[0m: 'Series' object has no attribute 'to_value'",
      "\nDuring handling of the above exception, another exception occurred:\n",
      "\u001b[0;31mUnitConversionError\u001b[0m                       Traceback (most recent call last)",
      "File \u001b[0;32m~/anaconda3/envs/tardis/lib/python3.8/site-packages/astropy/units/quantity.py:892\u001b[0m, in \u001b[0;36mQuantity.to_value\u001b[0;34m(self, unit, equivalencies)\u001b[0m\n\u001b[1;32m    891\u001b[0m \u001b[38;5;28;01mtry\u001b[39;00m:\n\u001b[0;32m--> 892\u001b[0m     scale \u001b[38;5;241m=\u001b[39m \u001b[38;5;28;43mself\u001b[39;49m\u001b[38;5;241;43m.\u001b[39;49m\u001b[43munit\u001b[49m\u001b[38;5;241;43m.\u001b[39;49m\u001b[43m_to\u001b[49m\u001b[43m(\u001b[49m\u001b[43munit\u001b[49m\u001b[43m)\u001b[49m\n\u001b[1;32m    893\u001b[0m \u001b[38;5;28;01mexcept\u001b[39;00m \u001b[38;5;167;01mException\u001b[39;00m:\n\u001b[1;32m    894\u001b[0m     \u001b[38;5;66;03m# Short-cut failed; try default (maybe equivalencies help).\u001b[39;00m\n",
      "File \u001b[0;32m~/anaconda3/envs/tardis/lib/python3.8/site-packages/astropy/units/core.py:1098\u001b[0m, in \u001b[0;36mUnitBase._to\u001b[0;34m(self, other)\u001b[0m\n\u001b[1;32m   1096\u001b[0m         \u001b[38;5;28;01mreturn\u001b[39;00m self_decomposed\u001b[38;5;241m.\u001b[39mscale \u001b[38;5;241m/\u001b[39m other_decomposed\u001b[38;5;241m.\u001b[39mscale\n\u001b[0;32m-> 1098\u001b[0m \u001b[38;5;28;01mraise\u001b[39;00m UnitConversionError(\n\u001b[1;32m   1099\u001b[0m     \u001b[38;5;124mf\u001b[39m\u001b[38;5;124m\"\u001b[39m\u001b[38;5;124m'\u001b[39m\u001b[38;5;132;01m{\u001b[39;00m\u001b[38;5;28mself\u001b[39m\u001b[38;5;132;01m!r}\u001b[39;00m\u001b[38;5;124m'\u001b[39m\u001b[38;5;124m is not a scaled version of \u001b[39m\u001b[38;5;124m'\u001b[39m\u001b[38;5;132;01m{\u001b[39;00mother\u001b[38;5;132;01m!r}\u001b[39;00m\u001b[38;5;124m'\u001b[39m\u001b[38;5;124m\"\u001b[39m)\n",
      "\u001b[0;31mUnitConversionError\u001b[0m: 'Unit(dimensionless)' is not a scaled version of 'Unit(\"Angstrom\")'",
      "\nDuring handling of the above exception, another exception occurred:\n",
      "\u001b[0;31mUnitConversionError\u001b[0m                       Traceback (most recent call last)",
      "Input \u001b[0;32mIn [6]\u001b[0m, in \u001b[0;36m<cell line: 1>\u001b[0;34m()\u001b[0m\n\u001b[0;32m----> 1\u001b[0m tau_h_minus \u001b[38;5;241m=\u001b[39m \u001b[43mcalc_tau_h_minus\u001b[49m\u001b[43m(\u001b[49m\n\u001b[1;32m      2\u001b[0m \u001b[43m    \u001b[49m\u001b[43msplasma\u001b[49m\u001b[43m,\u001b[49m\n\u001b[1;32m      3\u001b[0m \u001b[43m    \u001b[49m\u001b[43mmarcs_model_fv\u001b[49m\u001b[43m,\u001b[49m\n\u001b[1;32m      4\u001b[0m \u001b[43m    \u001b[49m\u001b[43mtracing_nus\u001b[49m\u001b[43m,\u001b[49m\n\u001b[1;32m      5\u001b[0m \u001b[43m    \u001b[49m\u001b[43mwbr_fpath\u001b[49m\u001b[38;5;241;43m=\u001b[39;49m\u001b[38;5;124;43m\"\u001b[39;49m\u001b[38;5;124;43mdata/wishart_broad_reinhardt_cross_section.dat\u001b[39;49m\u001b[38;5;124;43m\"\u001b[39;49m\u001b[43m,\u001b[49m\n\u001b[1;32m      6\u001b[0m \u001b[43m    \u001b[49m\u001b[43mtracing_wavelength\u001b[49m\u001b[38;5;241;43m=\u001b[39;49m\u001b[43mtracing_wavelength\u001b[49m\n\u001b[1;32m      7\u001b[0m \u001b[43m)\u001b[49m\n",
      "File \u001b[0;32m~/stardis/stardis/opacities/base.py:52\u001b[0m, in \u001b[0;36mcalc_tau_h_minus\u001b[0;34m(splasma, marcs_model_fv, tracing_nus, wbr_fpath, tracing_wavelength)\u001b[0m\n\u001b[1;32m     47\u001b[0m wbr_cross_section \u001b[38;5;241m=\u001b[39m read_wbr_cross_section(wbr_fpath)\n\u001b[1;32m     49\u001b[0m \u001b[38;5;66;03m#tracing_wavelength = tracing_nus.to(u.AA, u.spectral())\u001b[39;00m\n\u001b[1;32m     50\u001b[0m \n\u001b[1;32m     51\u001b[0m \u001b[38;5;66;03m# sigma\u001b[39;00m\n\u001b[0;32m---> 52\u001b[0m h_minus_sigma_nu \u001b[38;5;241m=\u001b[39m \u001b[43mnp\u001b[49m\u001b[38;5;241;43m.\u001b[39;49m\u001b[43minterp\u001b[49m\u001b[43m(\u001b[49m\n\u001b[1;32m     53\u001b[0m \u001b[43m    \u001b[49m\u001b[43mtracing_wavelength\u001b[49m\u001b[43m,\u001b[49m\n\u001b[1;32m     54\u001b[0m \u001b[43m    \u001b[49m\u001b[43mwbr_cross_section\u001b[49m\u001b[38;5;241;43m.\u001b[39;49m\u001b[43mwavelength\u001b[49m\u001b[43m,\u001b[49m\n\u001b[1;32m     55\u001b[0m \u001b[43m    \u001b[49m\u001b[43mwbr_cross_section\u001b[49m\u001b[38;5;241;43m.\u001b[39;49m\u001b[43mcross_section\u001b[49m\u001b[43m,\u001b[49m\n\u001b[1;32m     56\u001b[0m \u001b[43m\u001b[49m\u001b[43m)\u001b[49m\n\u001b[1;32m     58\u001b[0m \u001b[38;5;66;03m# tau = sigma * n * l; shape: (num cells, num tracing nus) - tau for each frequency in each cell\u001b[39;00m\n\u001b[1;32m     59\u001b[0m tau_h_minus \u001b[38;5;241m=\u001b[39m h_minus_sigma_nu \u001b[38;5;241m*\u001b[39m (h_minus_density \u001b[38;5;241m*\u001b[39m marcs_model_fv\u001b[38;5;241m.\u001b[39mcell_length\u001b[38;5;241m.\u001b[39mvalues)[\u001b[38;5;28;01mNone\u001b[39;00m]\u001b[38;5;241m.\u001b[39mT\n",
      "File \u001b[0;32m<__array_function__ internals>:5\u001b[0m, in \u001b[0;36minterp\u001b[0;34m(*args, **kwargs)\u001b[0m\n",
      "File \u001b[0;32m~/anaconda3/envs/tardis/lib/python3.8/site-packages/astropy/units/quantity.py:1701\u001b[0m, in \u001b[0;36mQuantity.__array_function__\u001b[0;34m(self, function, types, args, kwargs)\u001b[0m\n\u001b[1;32m   1699\u001b[0m function_helper \u001b[38;5;241m=\u001b[39m FUNCTION_HELPERS[function]\n\u001b[1;32m   1700\u001b[0m \u001b[38;5;28;01mtry\u001b[39;00m:\n\u001b[0;32m-> 1701\u001b[0m     args, kwargs, unit, out \u001b[38;5;241m=\u001b[39m \u001b[43mfunction_helper\u001b[49m\u001b[43m(\u001b[49m\u001b[38;5;241;43m*\u001b[39;49m\u001b[43margs\u001b[49m\u001b[43m,\u001b[49m\u001b[43m \u001b[49m\u001b[38;5;241;43m*\u001b[39;49m\u001b[38;5;241;43m*\u001b[39;49m\u001b[43mkwargs\u001b[49m\u001b[43m)\u001b[49m\n\u001b[1;32m   1702\u001b[0m \u001b[38;5;28;01mexcept\u001b[39;00m \u001b[38;5;167;01mNotImplementedError\u001b[39;00m:\n\u001b[1;32m   1703\u001b[0m     \u001b[38;5;28;01mreturn\u001b[39;00m \u001b[38;5;28mself\u001b[39m\u001b[38;5;241m.\u001b[39m_not_implemented_or_raise(function, types)\n",
      "File \u001b[0;32m~/anaconda3/envs/tardis/lib/python3.8/site-packages/astropy/units/quantity_helper/function_helpers.py:807\u001b[0m, in \u001b[0;36minterp\u001b[0;34m(x, xp, fp, *args, **kwargs)\u001b[0m\n\u001b[1;32m    803\u001b[0m \u001b[38;5;129m@function_helper\u001b[39m\n\u001b[1;32m    804\u001b[0m \u001b[38;5;28;01mdef\u001b[39;00m \u001b[38;5;21minterp\u001b[39m(x, xp, fp, \u001b[38;5;241m*\u001b[39margs, \u001b[38;5;241m*\u001b[39m\u001b[38;5;241m*\u001b[39mkwargs):\n\u001b[1;32m    805\u001b[0m     \u001b[38;5;28;01mfrom\u001b[39;00m \u001b[38;5;21;01mastropy\u001b[39;00m\u001b[38;5;21;01m.\u001b[39;00m\u001b[38;5;21;01munits\u001b[39;00m \u001b[38;5;28;01mimport\u001b[39;00m Quantity\n\u001b[0;32m--> 807\u001b[0m     (x, xp), _ \u001b[38;5;241m=\u001b[39m \u001b[43m_quantities2arrays\u001b[49m\u001b[43m(\u001b[49m\u001b[43mx\u001b[49m\u001b[43m,\u001b[49m\u001b[43m \u001b[49m\u001b[43mxp\u001b[49m\u001b[43m)\u001b[49m\n\u001b[1;32m    808\u001b[0m     \u001b[38;5;28;01mif\u001b[39;00m \u001b[38;5;28misinstance\u001b[39m(fp, Quantity):\n\u001b[1;32m    809\u001b[0m         unit \u001b[38;5;241m=\u001b[39m fp\u001b[38;5;241m.\u001b[39munit\n",
      "File \u001b[0;32m~/anaconda3/envs/tardis/lib/python3.8/site-packages/astropy/units/quantity_helper/function_helpers.py:344\u001b[0m, in \u001b[0;36m_quantities2arrays\u001b[0;34m(unit_from_first, *args)\u001b[0m\n\u001b[1;32m    340\u001b[0m \u001b[38;5;66;03m# We use the private _to_own_unit method here instead of just\u001b[39;00m\n\u001b[1;32m    341\u001b[0m \u001b[38;5;66;03m# converting everything to quantity and then do .to_value(qs0.unit)\u001b[39;00m\n\u001b[1;32m    342\u001b[0m \u001b[38;5;66;03m# as we want to allow arbitrary unit for 0, inf, and nan.\u001b[39;00m\n\u001b[1;32m    343\u001b[0m \u001b[38;5;28;01mtry\u001b[39;00m:\n\u001b[0;32m--> 344\u001b[0m     arrays \u001b[38;5;241m=\u001b[39m \u001b[38;5;28;43mtuple\u001b[39;49m\u001b[43m(\u001b[49m\u001b[43m(\u001b[49m\u001b[43mq\u001b[49m\u001b[38;5;241;43m.\u001b[39;49m\u001b[43m_to_own_unit\u001b[49m\u001b[43m(\u001b[49m\u001b[43marg\u001b[49m\u001b[43m)\u001b[49m\u001b[43m)\u001b[49m\u001b[43m \u001b[49m\u001b[38;5;28;43;01mfor\u001b[39;49;00m\u001b[43m \u001b[49m\u001b[43marg\u001b[49m\u001b[43m \u001b[49m\u001b[38;5;129;43;01min\u001b[39;49;00m\u001b[43m \u001b[49m\u001b[43margs\u001b[49m\u001b[43m)\u001b[49m\n\u001b[1;32m    345\u001b[0m \u001b[38;5;28;01mexcept\u001b[39;00m \u001b[38;5;167;01mTypeError\u001b[39;00m:\n\u001b[1;32m    346\u001b[0m     \u001b[38;5;28;01mraise\u001b[39;00m \u001b[38;5;167;01mNotImplementedError\u001b[39;00m\n",
      "File \u001b[0;32m~/anaconda3/envs/tardis/lib/python3.8/site-packages/astropy/units/quantity_helper/function_helpers.py:344\u001b[0m, in \u001b[0;36m<genexpr>\u001b[0;34m(.0)\u001b[0m\n\u001b[1;32m    340\u001b[0m \u001b[38;5;66;03m# We use the private _to_own_unit method here instead of just\u001b[39;00m\n\u001b[1;32m    341\u001b[0m \u001b[38;5;66;03m# converting everything to quantity and then do .to_value(qs0.unit)\u001b[39;00m\n\u001b[1;32m    342\u001b[0m \u001b[38;5;66;03m# as we want to allow arbitrary unit for 0, inf, and nan.\u001b[39;00m\n\u001b[1;32m    343\u001b[0m \u001b[38;5;28;01mtry\u001b[39;00m:\n\u001b[0;32m--> 344\u001b[0m     arrays \u001b[38;5;241m=\u001b[39m \u001b[38;5;28mtuple\u001b[39m((\u001b[43mq\u001b[49m\u001b[38;5;241;43m.\u001b[39;49m\u001b[43m_to_own_unit\u001b[49m\u001b[43m(\u001b[49m\u001b[43marg\u001b[49m\u001b[43m)\u001b[49m) \u001b[38;5;28;01mfor\u001b[39;00m arg \u001b[38;5;129;01min\u001b[39;00m args)\n\u001b[1;32m    345\u001b[0m \u001b[38;5;28;01mexcept\u001b[39;00m \u001b[38;5;167;01mTypeError\u001b[39;00m:\n\u001b[1;32m    346\u001b[0m     \u001b[38;5;28;01mraise\u001b[39;00m \u001b[38;5;167;01mNotImplementedError\u001b[39;00m\n",
      "File \u001b[0;32m~/anaconda3/envs/tardis/lib/python3.8/site-packages/astropy/units/quantity.py:1543\u001b[0m, in \u001b[0;36mQuantity._to_own_unit\u001b[0;34m(self, value, check_precision)\u001b[0m\n\u001b[1;32m   1541\u001b[0m \u001b[38;5;28;01mtry\u001b[39;00m:\n\u001b[1;32m   1542\u001b[0m     as_quantity \u001b[38;5;241m=\u001b[39m Quantity(value)\n\u001b[0;32m-> 1543\u001b[0m     _value \u001b[38;5;241m=\u001b[39m \u001b[43mas_quantity\u001b[49m\u001b[38;5;241;43m.\u001b[39;49m\u001b[43mto_value\u001b[49m\u001b[43m(\u001b[49m\u001b[38;5;28;43mself\u001b[39;49m\u001b[38;5;241;43m.\u001b[39;49m\u001b[43munit\u001b[49m\u001b[43m)\u001b[49m\n\u001b[1;32m   1544\u001b[0m \u001b[38;5;28;01mexcept\u001b[39;00m UnitsError:\n\u001b[1;32m   1545\u001b[0m     \u001b[38;5;66;03m# last chance: if this was not something with a unit\u001b[39;00m\n\u001b[1;32m   1546\u001b[0m     \u001b[38;5;66;03m# and is all 0, inf, or nan, we treat it as arbitrary unit.\u001b[39;00m\n\u001b[1;32m   1547\u001b[0m     \u001b[38;5;28;01mif\u001b[39;00m (\u001b[38;5;129;01mnot\u001b[39;00m \u001b[38;5;28mhasattr\u001b[39m(value, \u001b[38;5;124m'\u001b[39m\u001b[38;5;124munit\u001b[39m\u001b[38;5;124m'\u001b[39m) \u001b[38;5;129;01mand\u001b[39;00m\n\u001b[1;32m   1548\u001b[0m             can_have_arbitrary_unit(as_quantity\u001b[38;5;241m.\u001b[39mvalue)):\n",
      "File \u001b[0;32m~/anaconda3/envs/tardis/lib/python3.8/site-packages/astropy/units/quantity.py:895\u001b[0m, in \u001b[0;36mQuantity.to_value\u001b[0;34m(self, unit, equivalencies)\u001b[0m\n\u001b[1;32m    892\u001b[0m     scale \u001b[38;5;241m=\u001b[39m \u001b[38;5;28mself\u001b[39m\u001b[38;5;241m.\u001b[39munit\u001b[38;5;241m.\u001b[39m_to(unit)\n\u001b[1;32m    893\u001b[0m \u001b[38;5;28;01mexcept\u001b[39;00m \u001b[38;5;167;01mException\u001b[39;00m:\n\u001b[1;32m    894\u001b[0m     \u001b[38;5;66;03m# Short-cut failed; try default (maybe equivalencies help).\u001b[39;00m\n\u001b[0;32m--> 895\u001b[0m     value \u001b[38;5;241m=\u001b[39m \u001b[38;5;28;43mself\u001b[39;49m\u001b[38;5;241;43m.\u001b[39;49m\u001b[43m_to_value\u001b[49m\u001b[43m(\u001b[49m\u001b[43munit\u001b[49m\u001b[43m,\u001b[49m\u001b[43m \u001b[49m\u001b[43mequivalencies\u001b[49m\u001b[43m)\u001b[49m\n\u001b[1;32m    896\u001b[0m \u001b[38;5;28;01melse\u001b[39;00m:\n\u001b[1;32m    897\u001b[0m     value \u001b[38;5;241m=\u001b[39m \u001b[38;5;28mself\u001b[39m\u001b[38;5;241m.\u001b[39mview(np\u001b[38;5;241m.\u001b[39mndarray)\n",
      "File \u001b[0;32m~/anaconda3/envs/tardis/lib/python3.8/site-packages/astropy/units/quantity.py:802\u001b[0m, in \u001b[0;36mQuantity._to_value\u001b[0;34m(self, unit, equivalencies)\u001b[0m\n\u001b[1;32m    799\u001b[0m     equivalencies \u001b[38;5;241m=\u001b[39m \u001b[38;5;28mself\u001b[39m\u001b[38;5;241m.\u001b[39m_equivalencies\n\u001b[1;32m    800\u001b[0m \u001b[38;5;28;01mif\u001b[39;00m \u001b[38;5;129;01mnot\u001b[39;00m \u001b[38;5;28mself\u001b[39m\u001b[38;5;241m.\u001b[39mdtype\u001b[38;5;241m.\u001b[39mnames \u001b[38;5;129;01mor\u001b[39;00m \u001b[38;5;28misinstance\u001b[39m(\u001b[38;5;28mself\u001b[39m\u001b[38;5;241m.\u001b[39munit, StructuredUnit):\n\u001b[1;32m    801\u001b[0m     \u001b[38;5;66;03m# Standard path, let unit to do work.\u001b[39;00m\n\u001b[0;32m--> 802\u001b[0m     \u001b[38;5;28;01mreturn\u001b[39;00m \u001b[38;5;28;43mself\u001b[39;49m\u001b[38;5;241;43m.\u001b[39;49m\u001b[43munit\u001b[49m\u001b[38;5;241;43m.\u001b[39;49m\u001b[43mto\u001b[49m\u001b[43m(\u001b[49m\u001b[43munit\u001b[49m\u001b[43m,\u001b[49m\u001b[43m \u001b[49m\u001b[38;5;28;43mself\u001b[39;49m\u001b[38;5;241;43m.\u001b[39;49m\u001b[43mview\u001b[49m\u001b[43m(\u001b[49m\u001b[43mnp\u001b[49m\u001b[38;5;241;43m.\u001b[39;49m\u001b[43mndarray\u001b[49m\u001b[43m)\u001b[49m\u001b[43m,\u001b[49m\n\u001b[1;32m    803\u001b[0m \u001b[43m                        \u001b[49m\u001b[43mequivalencies\u001b[49m\u001b[38;5;241;43m=\u001b[39;49m\u001b[43mequivalencies\u001b[49m\u001b[43m)\u001b[49m\n\u001b[1;32m    805\u001b[0m \u001b[38;5;28;01melse\u001b[39;00m:\n\u001b[1;32m    806\u001b[0m     \u001b[38;5;66;03m# The .to() method of a simple unit cannot convert a structured\u001b[39;00m\n\u001b[1;32m    807\u001b[0m     \u001b[38;5;66;03m# dtype, so we work around it, by recursing.\u001b[39;00m\n\u001b[1;32m    808\u001b[0m     \u001b[38;5;66;03m# TODO: deprecate this?\u001b[39;00m\n\u001b[1;32m    809\u001b[0m     \u001b[38;5;66;03m# Convert simple to Structured on initialization?\u001b[39;00m\n\u001b[1;32m    810\u001b[0m     result \u001b[38;5;241m=\u001b[39m np\u001b[38;5;241m.\u001b[39mempty_like(\u001b[38;5;28mself\u001b[39m\u001b[38;5;241m.\u001b[39mview(np\u001b[38;5;241m.\u001b[39mndarray))\n",
      "File \u001b[0;32m~/anaconda3/envs/tardis/lib/python3.8/site-packages/astropy/units/core.py:1135\u001b[0m, in \u001b[0;36mUnitBase.to\u001b[0;34m(self, other, value, equivalencies)\u001b[0m\n\u001b[1;32m   1133\u001b[0m     \u001b[38;5;28;01mreturn\u001b[39;00m UNITY\n\u001b[1;32m   1134\u001b[0m \u001b[38;5;28;01melse\u001b[39;00m:\n\u001b[0;32m-> 1135\u001b[0m     \u001b[38;5;28;01mreturn\u001b[39;00m \u001b[38;5;28;43mself\u001b[39;49m\u001b[38;5;241;43m.\u001b[39;49m\u001b[43m_get_converter\u001b[49m\u001b[43m(\u001b[49m\u001b[43mUnit\u001b[49m\u001b[43m(\u001b[49m\u001b[43mother\u001b[49m\u001b[43m)\u001b[49m\u001b[43m,\u001b[49m\n\u001b[1;32m   1136\u001b[0m \u001b[43m                               \u001b[49m\u001b[43mequivalencies\u001b[49m\u001b[38;5;241;43m=\u001b[39;49m\u001b[43mequivalencies\u001b[49m\u001b[43m)\u001b[49m(value)\n",
      "File \u001b[0;32m~/anaconda3/envs/tardis/lib/python3.8/site-packages/astropy/units/core.py:1066\u001b[0m, in \u001b[0;36mUnitBase._get_converter\u001b[0;34m(self, other, equivalencies)\u001b[0m\n\u001b[1;32m   1063\u001b[0m             \u001b[38;5;28;01mexcept\u001b[39;00m \u001b[38;5;167;01mException\u001b[39;00m:\n\u001b[1;32m   1064\u001b[0m                 \u001b[38;5;28;01mpass\u001b[39;00m\n\u001b[0;32m-> 1066\u001b[0m \u001b[38;5;28;01mraise\u001b[39;00m exc\n",
      "File \u001b[0;32m~/anaconda3/envs/tardis/lib/python3.8/site-packages/astropy/units/core.py:1051\u001b[0m, in \u001b[0;36mUnitBase._get_converter\u001b[0;34m(self, other, equivalencies)\u001b[0m\n\u001b[1;32m   1049\u001b[0m \u001b[38;5;66;03m# if that doesn't work, maybe we can do it with equivalencies?\u001b[39;00m\n\u001b[1;32m   1050\u001b[0m \u001b[38;5;28;01mtry\u001b[39;00m:\n\u001b[0;32m-> 1051\u001b[0m     \u001b[38;5;28;01mreturn\u001b[39;00m \u001b[38;5;28;43mself\u001b[39;49m\u001b[38;5;241;43m.\u001b[39;49m\u001b[43m_apply_equivalencies\u001b[49m\u001b[43m(\u001b[49m\n\u001b[1;32m   1052\u001b[0m \u001b[43m        \u001b[49m\u001b[38;5;28;43mself\u001b[39;49m\u001b[43m,\u001b[49m\u001b[43m \u001b[49m\u001b[43mother\u001b[49m\u001b[43m,\u001b[49m\u001b[43m \u001b[49m\u001b[38;5;28;43mself\u001b[39;49m\u001b[38;5;241;43m.\u001b[39;49m\u001b[43m_normalize_equivalencies\u001b[49m\u001b[43m(\u001b[49m\u001b[43mequivalencies\u001b[49m\u001b[43m)\u001b[49m\u001b[43m)\u001b[49m\n\u001b[1;32m   1053\u001b[0m \u001b[38;5;28;01mexcept\u001b[39;00m UnitsError \u001b[38;5;28;01mas\u001b[39;00m exc:\n\u001b[1;32m   1054\u001b[0m     \u001b[38;5;66;03m# Last hope: maybe other knows how to do it?\u001b[39;00m\n\u001b[1;32m   1055\u001b[0m     \u001b[38;5;66;03m# We assume the equivalencies have the unit itself as first item.\u001b[39;00m\n\u001b[1;32m   1056\u001b[0m     \u001b[38;5;66;03m# TODO: maybe better for other to have a `_back_converter` method?\u001b[39;00m\n\u001b[1;32m   1057\u001b[0m     \u001b[38;5;28;01mif\u001b[39;00m \u001b[38;5;28mhasattr\u001b[39m(other, \u001b[38;5;124m'\u001b[39m\u001b[38;5;124mequivalencies\u001b[39m\u001b[38;5;124m'\u001b[39m):\n",
      "File \u001b[0;32m~/anaconda3/envs/tardis/lib/python3.8/site-packages/astropy/units/core.py:1027\u001b[0m, in \u001b[0;36mUnitBase._apply_equivalencies\u001b[0;34m(self, unit, other, equivalencies)\u001b[0m\n\u001b[1;32m   1024\u001b[0m unit_str \u001b[38;5;241m=\u001b[39m get_err_str(unit)\n\u001b[1;32m   1025\u001b[0m other_str \u001b[38;5;241m=\u001b[39m get_err_str(other)\n\u001b[0;32m-> 1027\u001b[0m \u001b[38;5;28;01mraise\u001b[39;00m UnitConversionError(\n\u001b[1;32m   1028\u001b[0m     \u001b[38;5;124mf\u001b[39m\u001b[38;5;124m\"\u001b[39m\u001b[38;5;132;01m{\u001b[39;00munit_str\u001b[38;5;132;01m}\u001b[39;00m\u001b[38;5;124m and \u001b[39m\u001b[38;5;132;01m{\u001b[39;00mother_str\u001b[38;5;132;01m}\u001b[39;00m\u001b[38;5;124m are not convertible\u001b[39m\u001b[38;5;124m\"\u001b[39m)\n",
      "\u001b[0;31mUnitConversionError\u001b[0m: '' (dimensionless) and 'Angstrom' (length) are not convertible"
     ]
    }
   ],
   "source": [
    "tau_h_minus = calc_tau_h_minus(\n",
    "    splasma,\n",
    "    marcs_model_fv,\n",
    "    tracing_nus,\n",
    "    wbr_fpath=\"data/wishart_broad_reinhardt_cross_section.dat\",\n",
    "    tracing_wavelength=tracing_wavelength\n",
    ")"
   ]
  },
  {
   "cell_type": "code",
   "execution_count": null,
   "metadata": {},
   "outputs": [],
   "source": [
    "# alpha value (=n x sigma) of each line for all 55 cells\n",
    "# shape of splasma.alpha_line: (74, 55), splasma has 74 lines (aka atomic transitions)\n",
    "alpha_line = splasma.alpha_line.reset_index(drop=True).values[::-1]\n",
    "delta_tau_lines = alpha_line * marcs_model_fv.cell_length.values # shape: (74, 55)"
   ]
  },
  {
   "cell_type": "code",
   "execution_count": null,
   "metadata": {},
   "outputs": [],
   "source": [
    "#h_minus_density = calc_hminus_density(\n",
    "#    h_neutral_density=splasma.ion_number_density.loc[(1, 0)].values,\n",
    " #   temperature=marcs_model_fv.t.values * u.K,\n",
    "  #  electron_density=splasma.electron_densities.values,\n",
    "   # )"
   ]
  },
  {
   "cell_type": "code",
   "execution_count": null,
   "metadata": {},
   "outputs": [],
   "source": [
    "tau_e = calc_tau_e(splasma,marcs_model_fv,tracing_nus)"
   ]
  },
  {
   "cell_type": "code",
   "execution_count": null,
   "metadata": {},
   "outputs": [],
   "source": [
    "len(marcs_model_fv)"
   ]
  },
  {
   "cell_type": "code",
   "execution_count": null,
   "metadata": {},
   "outputs": [],
   "source": [
    "len(tracing_nus)"
   ]
  },
  {
   "cell_type": "code",
   "execution_count": null,
   "metadata": {},
   "outputs": [],
   "source": [
    "tau_h_minus.shape, delta_tau_lines.shape, tau_e.shape"
   ]
  },
  {
   "cell_type": "code",
   "execution_count": null,
   "metadata": {},
   "outputs": [],
   "source": [
    "# transition doesn't happen at a specific nu due to several factors (changing temperatires, doppler shifts, relativity, etc.)\n",
    "# so we take a window 2e11 Hz wide - if nu falls within that, we consider it\n",
    "\n",
    "lines_nu = splasma.lines.nu.values[::-1] # reverse to bring them to ascending order\n",
    "\n",
    "# search_sorted finds the index before which a (tracing_nu +- 1e11) can be inserted \n",
    "# in lines_nu array to maintain its sort order\n",
    "line_id_starts = lines_nu.searchsorted(tracing_nus.value-1e11)\n",
    "line_id_ends = lines_nu.searchsorted(tracing_nus.value+1e11)"
   ]
  },
  {
   "cell_type": "markdown",
   "metadata": {},
   "source": [
    "### Source function"
   ]
  },
  {
   "cell_type": "code",
   "execution_count": null,
   "metadata": {
    "ExecuteTime": {
     "end_time": "2022-01-12T00:21:33.791098Z",
     "start_time": "2022-01-12T00:18:49.241816Z"
    }
   },
   "outputs": [],
   "source": [
    "# bb shape: (56, 800000), calculated at each cell boundary\n",
    "bb_prefactor = (2 * const.h.cgs * tracing_nus ** 3) / const.c.cgs ** 2\n",
    "bb = bb_prefactor / (\n",
    "    np.exp(\n",
    "        (\n",
    "            (const.h.cgs * tracing_nus)\n",
    "            / (const.k_B.cgs * temps * u.K)\n",
    "        ).value\n",
    "    )\n",
    "    - 1\n",
    ")"
   ]
  },
  {
   "cell_type": "code",
   "execution_count": null,
   "metadata": {},
   "outputs": [],
   "source": [
    "tw_cm = tracing_wavelength.to(\"cm\")"
   ]
  },
  {
   "cell_type": "code",
   "execution_count": null,
   "metadata": {},
   "outputs": [],
   "source": [
    "bbw_prefactor = (2 * const.h.cgs * const.c.cgs ** 2) / (tracing_wavelength) ** 5\n",
    "bbw = bbw_prefactor / (\n",
    "    np.exp(\n",
    "        (\n",
    "            (const.h.cgs * const.c.cgs)\n",
    "            / (const.k_B.cgs * tracing_wavelength * temps * u.K)\n",
    "        )\n",
    "    )\n",
    "    - 1\n",
    ") * 1e-7"
   ]
  },
  {
   "cell_type": "code",
   "execution_count": null,
   "metadata": {},
   "outputs": [],
   "source": [
    "tw_cm"
   ]
  },
  {
   "cell_type": "code",
   "execution_count": null,
   "metadata": {},
   "outputs": [],
   "source": [
    "plt.plot(tracing_wavelength,bbw[0])"
   ]
  },
  {
   "cell_type": "code",
   "execution_count": null,
   "metadata": {},
   "outputs": [],
   "source": [
    "plt.plot(tracing_wavelength,bb[0]*tracing_nus/tracing_wavelength**2)"
   ]
  },
  {
   "cell_type": "code",
   "execution_count": null,
   "metadata": {},
   "outputs": [],
   "source": [
    "for i in range(55):\n",
    "    plt.plot(tracing_wavelength,bbw[i])"
   ]
  },
  {
   "cell_type": "code",
   "execution_count": null,
   "metadata": {},
   "outputs": [],
   "source": [
    "for i in range(55):\n",
    "    plt.plot(tracing_nus,bb[i])"
   ]
  },
  {
   "cell_type": "code",
   "execution_count": null,
   "metadata": {},
   "outputs": [],
   "source": [
    "bb.shape"
   ]
  },
  {
   "cell_type": "code",
   "execution_count": null,
   "metadata": {},
   "outputs": [],
   "source": [
    "source = bb[1:].value \n",
    "delta_source = bb.diff(axis=0).value  # for cells, not boundary"
   ]
  },
  {
   "cell_type": "markdown",
   "metadata": {},
   "source": [
    "### RT Equation"
   ]
  },
  {
   "cell_type": "code",
   "execution_count": null,
   "metadata": {},
   "outputs": [],
   "source": [
    "tau_photo_H = 7.91e-18 * splasma.level_number_density.loc[(1,0,1)] * marcs_model_fv.cell_length.values\n",
    "\n",
    "tau_photo_C = 7.91e-18/6**2 * splasma.level_number_density.loc[(6,0,1)] * marcs_model_fv.cell_length.values\n",
    "\n",
    "tau_photo_Si = 7.91e-18/14**2 * splasma.level_number_density.loc[(14,0,1)] * marcs_model_fv.cell_length.values\n",
    "\n",
    "tau_photo_Mg = 7.91e-18/12**2 * splasma.level_number_density.loc[(12,0,1)] * marcs_model_fv.cell_length.values\n",
    "\n",
    "tau_photo_Al = 7.91e-18/13**2 * splasma.level_number_density.loc[(13,0,1)] * marcs_model_fv.cell_length.values\n",
    "\n",
    "tau_photo_C/tau_photo_H;"
   ]
  },
  {
   "cell_type": "code",
   "execution_count": null,
   "metadata": {},
   "outputs": [],
   "source": [
    "# I_nu (specific intensity) is calculated at each cell boundary, shape: (56,800000)\n",
    "I_nu = np.ones((delta_tau_lines.shape[1] + 1, len(tracing_nus))) * -99\n",
    "I_nu[0] = bb[0]  # the innermost boundary is photosphere\n",
    "num_of_shells = len(I_nu) - 1\n",
    "tau_photo_H_fn = calc_tau_photo(splasma,marcs_model_fv,tracing_nus,(1,0,1),7.91e-18,8.22e14)\n",
    "\n",
    "for i in range(len(tracing_nus)):  # iterating over nus (columns)\n",
    "    nu, line_id_start, line_id_end = (\n",
    "        tracing_nus[i],\n",
    "        line_id_starts[i],\n",
    "        line_id_ends[i],\n",
    "    )\n",
    "\n",
    "    if line_id_start != line_id_end:\n",
    "        delta_tau = delta_tau_lines[line_id_start:line_id_end]\n",
    "        delta_nu = nu.value - lines_nu[line_id_start:line_id_end]\n",
    "        #tau_nus = np.zeros(I_nu.shape[0] - 1)\n",
    "        tau_nus = calc_tau_nus(delta_tau, delta_nu)\n",
    "\n",
    "    else:\n",
    "        tau_nus = np.zeros(I_nu.shape[0] - 1)\n",
    "\n",
    "    for j in range(num_of_shells):  # iterating over cells/shells (rows)\n",
    "        cur_tau_h_minus = tau_h_minus[j,i]\n",
    "        curr_tau_e = tau_e[j,i]\n",
    "        curr_tau_photo = 0\n",
    "        #curr_tau_rayleigh = tau_rayleigh[j] * nu.value**4\n",
    "        curr_tau_photo += tau_photo_H_fn[j,i]\n",
    "        if nu.value>1.7e16:\n",
    "            curr_tau_photo += tau_photo_C[j] * (nu.value/1.7e16)**(-3)\n",
    "        if nu.value>1.2e16:\n",
    "            curr_tau_photo += tau_photo_Si[j] * (nu.value/1.2e16)**(-3)\n",
    "        if nu.value>1.2e16:\n",
    "            curr_tau_photo += tau_photo_Mg[j] * (nu.value/1.2e16)**(-3)\n",
    "        if nu.value>1.2e16:\n",
    "            curr_tau_photo += tau_photo_Al[j] * (nu.value/1.2e16)**(-3)\n",
    "        delta_tau_nu = tau_nus[j] + cur_tau_h_minus + curr_tau_photo + curr_tau_e #+ tauross[j] seems to improve\n",
    "        w0, w1 = calc_weights(delta_tau_nu)\n",
    "\n",
    "        if tau_nus[j] == 0:\n",
    "            second_term = 0\n",
    "        else:\n",
    "            second_term = w1 * delta_source[j, i] / delta_tau_nu\n",
    "\n",
    "        I_nu[j + 1, i] = (1 - w0) * I_nu[j, i] + w0 * source[j, i] + second_term # van Noort 2001 eq 14\n",
    "\n"
   ]
  },
  {
   "cell_type": "markdown",
   "metadata": {},
   "source": [
    "### Plotting"
   ]
  },
  {
   "cell_type": "code",
   "execution_count": null,
   "metadata": {
    "ExecuteTime": {
     "end_time": "2022-01-12T00:21:45.266403Z",
     "start_time": "2022-01-12T00:21:45.091024Z"
    },
    "scrolled": true
   },
   "outputs": [],
   "source": [
    "I_lambda = (I_nu[55])*tracing_nus/tracing_wavelength\n",
    "\n",
    "cur_bb = bb[0]*tracing_nus/tracing_wavelength #TODO: check why 0, shouldn't it be 55 like I_nu?\n",
    "\n",
    "plt.plot(tracing_wavelength, I_lambda, label=\"I\")\n",
    "plt.plot(tracing_wavelength, cur_bb, label=\"BB\")\n",
    "# plt.xlim(4330,4350) # to see 1st feature\n",
    "# plt.xlim(6500, 6600) # to see last feature\n",
    "#plt.xlim(2000,10000) \n",
    "plt.legend()"
   ]
  },
  {
   "cell_type": "code",
   "execution_count": null,
   "metadata": {},
   "outputs": [],
   "source": [
    "plt.figure(figsize=(10,6))\n",
    "flux = 2*np.pi*1e-5*ndimage.gaussian_filter1d(I_lambda, 1)\n",
    "plt.plot(tracing_wavelength, flux, label=\"F\")\n",
    "plt.plot(sun_spec.wave, sun_spec.flux, label=\"$F_{sun}$\")\n",
    "plt.plot(tracing_wavelength,bbw[14], label=\"BB of some temp\")\n",
    "\n",
    "plt.xlim((1000,10000))\n",
    "plt.legend()"
   ]
  },
  {
   "cell_type": "code",
   "execution_count": null,
   "metadata": {},
   "outputs": [],
   "source": [
    "plt.plot(tracing_wavelength,bbw[17], label=\"BB of some temp\")"
   ]
  },
  {
   "cell_type": "code",
   "execution_count": null,
   "metadata": {},
   "outputs": [],
   "source": []
  },
  {
   "cell_type": "code",
   "execution_count": null,
   "metadata": {},
   "outputs": [],
   "source": [
    "kappaross_diff = -np.diff(marcs_model_fv.kappaross)\n",
    "kappaross_diff = kappaross_diff\n",
    "kappaross_diff = np.append(kappaross_diff,marcs_model_fv.kappaross[54])\n",
    "kappaross_diff"
   ]
  },
  {
   "cell_type": "code",
   "execution_count": null,
   "metadata": {},
   "outputs": [],
   "source": [
    "tauross = kappaross_diff*marcs_model_fv.density*marcs_model_fv.cell_length\n",
    "tauross"
   ]
  },
  {
   "cell_type": "code",
   "execution_count": null,
   "metadata": {},
   "outputs": [],
   "source": [
    "calc_tau_photo(splasma,marcs_model_fv,tracing_nus,(1,0,1),7.91e-18,8.22e14)"
   ]
  },
  {
   "cell_type": "code",
   "execution_count": null,
   "metadata": {},
   "outputs": [],
   "source": []
  }
 ],
 "metadata": {
  "kernelspec": {
   "display_name": "Python 3 (ipykernel)",
   "language": "python",
   "name": "python3"
  },
  "language_info": {
   "codemirror_mode": {
    "name": "ipython",
    "version": 3
   },
   "file_extension": ".py",
   "mimetype": "text/x-python",
   "name": "python",
   "nbconvert_exporter": "python",
   "pygments_lexer": "ipython3",
   "version": "3.8.13"
  },
  "toc": {
   "base_numbering": 1,
   "nav_menu": {},
   "number_sections": true,
   "sideBar": true,
   "skip_h1_title": false,
   "title_cell": "Table of Contents",
   "title_sidebar": "Contents",
   "toc_cell": false,
   "toc_position": {},
   "toc_section_display": true,
   "toc_window_display": false
  },
  "vscode": {
   "interpreter": {
    "hash": "fa8628d2318bd99a3d47e52206e03625a3fa16b2b0ce3640eae09b1452043fd1"
   }
  },
  "widgets": {
   "application/vnd.jupyter.widget-state+json": {
    "state": {
     "00f819ed799047a5906a7d5e61c7f216": {
      "model_module": "@jupyter-widgets/controls",
      "model_module_version": "1.5.0",
      "model_name": "DescriptionStyleModel",
      "state": {
       "description_width": ""
      }
     },
     "15e49533d7ac4a2d96ea59e47e3f4a07": {
      "model_module": "@jupyter-widgets/base",
      "model_module_version": "1.2.0",
      "model_name": "LayoutModel",
      "state": {}
     },
     "2018d7f561e74bc98e0446b10b4840c3": {
      "model_module": "@jupyter-widgets/controls",
      "model_module_version": "1.5.0",
      "model_name": "HTMLModel",
      "state": {
       "layout": "IPY_MODEL_40cefbf886cf43f0ac75d3b2e715e14b",
       "style": "IPY_MODEL_4122c14de3a446c48cfde959ff0fb983",
       "value": "Packets:   "
      }
     },
     "33dcea8f09054164a9b9688375fd0411": {
      "model_module": "@jupyter-widgets/controls",
      "model_module_version": "1.5.0",
      "model_name": "DescriptionStyleModel",
      "state": {
       "description_width": ""
      }
     },
     "37a00d7d49bd4fe5af75d5734dbb837e": {
      "model_module": "@jupyter-widgets/controls",
      "model_module_version": "1.5.0",
      "model_name": "ProgressStyleModel",
      "state": {
       "description_width": ""
      }
     },
     "392463d3620a4a039960ef3691958b77": {
      "model_module": "@jupyter-widgets/base",
      "model_module_version": "1.2.0",
      "model_name": "LayoutModel",
      "state": {
       "width": "20px"
      }
     },
     "40cefbf886cf43f0ac75d3b2e715e14b": {
      "model_module": "@jupyter-widgets/base",
      "model_module_version": "1.2.0",
      "model_name": "LayoutModel",
      "state": {}
     },
     "4122c14de3a446c48cfde959ff0fb983": {
      "model_module": "@jupyter-widgets/controls",
      "model_module_version": "1.5.0",
      "model_name": "DescriptionStyleModel",
      "state": {
       "description_width": ""
      }
     },
     "52bef6fac46d49f6939c23f6c917445b": {
      "model_module": "@jupyter-widgets/output",
      "model_module_version": "1.0.0",
      "model_name": "OutputModel",
      "state": {
       "layout": "IPY_MODEL_f138d85378eb4aa9870eb7fe83adb223"
      }
     },
     "57a0a4ca909a4bc18782b71875345306": {
      "model_module": "@jupyter-widgets/controls",
      "model_module_version": "1.5.0",
      "model_name": "HTMLModel",
      "state": {
       "layout": "IPY_MODEL_98de0cd6510446f796adcf41b6ecc9db",
       "style": "IPY_MODEL_69d09d371a0b402a855e6635e6df1565",
       "value": "Iterations:"
      }
     },
     "69d09d371a0b402a855e6635e6df1565": {
      "model_module": "@jupyter-widgets/controls",
      "model_module_version": "1.5.0",
      "model_name": "DescriptionStyleModel",
      "state": {
       "description_width": ""
      }
     },
     "6d929ffee2ad43d5bcb6602ff7f03909": {
      "model_module": "@jupyter-widgets/base",
      "model_module_version": "1.2.0",
      "model_name": "LayoutModel",
      "state": {}
     },
     "730a485e1b2d43c8a43c41d04175301d": {
      "model_module": "@jupyter-widgets/controls",
      "model_module_version": "1.5.0",
      "model_name": "FloatProgressModel",
      "state": {
       "bar_style": "info",
       "layout": "IPY_MODEL_e2d8d3a635304aad81405d9d5b95bec7",
       "max": 1,
       "style": "IPY_MODEL_37a00d7d49bd4fe5af75d5734dbb837e"
      }
     },
     "8381733a4c7d40919c4b499ae4ea7176": {
      "model_module": "@jupyter-widgets/base",
      "model_module_version": "1.2.0",
      "model_name": "LayoutModel",
      "state": {}
     },
     "83feaa81d08346faa342e166c83cf39a": {
      "model_module": "@jupyter-widgets/controls",
      "model_module_version": "1.5.0",
      "model_name": "ProgressStyleModel",
      "state": {
       "description_width": ""
      }
     },
     "98de0cd6510446f796adcf41b6ecc9db": {
      "model_module": "@jupyter-widgets/base",
      "model_module_version": "1.2.0",
      "model_name": "LayoutModel",
      "state": {}
     },
     "9e39a3954b10495a818558ac43451167": {
      "model_module": "@jupyter-widgets/controls",
      "model_module_version": "1.5.0",
      "model_name": "HTMLModel",
      "state": {
       "layout": "IPY_MODEL_15e49533d7ac4a2d96ea59e47e3f4a07",
       "style": "IPY_MODEL_33dcea8f09054164a9b9688375fd0411",
       "value": "0/? [00:00&lt;?, ?it/s]"
      }
     },
     "b1de1f9260c9480e811e0b2d9bfa683a": {
      "model_module": "@jupyter-widgets/base",
      "model_module_version": "1.2.0",
      "model_name": "LayoutModel",
      "state": {}
     },
     "cb2dd126ec0244018ce8a48d49f553f2": {
      "model_module": "@jupyter-widgets/base",
      "model_module_version": "1.2.0",
      "model_name": "LayoutModel",
      "state": {}
     },
     "d3fbfa09645942d3ba99918fa2958360": {
      "model_module": "@jupyter-widgets/controls",
      "model_module_version": "1.5.0",
      "model_name": "FloatProgressModel",
      "state": {
       "bar_style": "info",
       "layout": "IPY_MODEL_392463d3620a4a039960ef3691958b77",
       "max": 1,
       "style": "IPY_MODEL_83feaa81d08346faa342e166c83cf39a"
      }
     },
     "e2d8d3a635304aad81405d9d5b95bec7": {
      "model_module": "@jupyter-widgets/base",
      "model_module_version": "1.2.0",
      "model_name": "LayoutModel",
      "state": {
       "width": "20px"
      }
     },
     "e63ae5a55cdd445380d2288999df9c38": {
      "model_module": "@jupyter-widgets/controls",
      "model_module_version": "1.5.0",
      "model_name": "HTMLModel",
      "state": {
       "layout": "IPY_MODEL_6d929ffee2ad43d5bcb6602ff7f03909",
       "style": "IPY_MODEL_00f819ed799047a5906a7d5e61c7f216",
       "value": "0/? [00:00&lt;?, ?it/s]"
      }
     },
     "e6c5089217494a3c9e38d393f4844273": {
      "model_module": "@jupyter-widgets/output",
      "model_module_version": "1.0.0",
      "model_name": "OutputModel",
      "state": {
       "layout": "IPY_MODEL_8381733a4c7d40919c4b499ae4ea7176"
      }
     },
     "f138d85378eb4aa9870eb7fe83adb223": {
      "model_module": "@jupyter-widgets/base",
      "model_module_version": "1.2.0",
      "model_name": "LayoutModel",
      "state": {}
     }
    },
    "version_major": 2,
    "version_minor": 0
   }
  }
 },
 "nbformat": 4,
 "nbformat_minor": 4
}
