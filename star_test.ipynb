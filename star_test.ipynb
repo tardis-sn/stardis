{
 "cells": [
  {
   "cell_type": "markdown",
   "metadata": {},
   "source": [
    "# STARDIS"
   ]
  },
  {
   "cell_type": "code",
   "execution_count": null,
   "metadata": {
    "ExecuteTime": {
     "end_time": "2022-01-12T00:13:43.539653Z",
     "start_time": "2022-01-12T00:13:40.679189Z"
    }
   },
   "outputs": [],
   "source": [
    "import numpy as np\n",
    "import pandas as pd\n",
    "import matplotlib.pyplot as plt\n",
    "from scipy import ndimage\n",
    "\n",
    "from tardis.simulation import Simulation\n",
    "from tardis.io.config_reader import Configuration\n",
    "from tardis.io.atom_data import AtomData\n",
    "\n",
    "from astropy import units as u, constants as const\n",
    "\n",
    "from stardis.plasma import AlphaLine, HMinusDensity, TracingNus, create_splasma\n",
    "from stardis.opacities import calc_tau_h_minus, calc_tau_e, calc_tau_nus, calc_hminus_density, calc_tau_photo\n",
    "from stardis.io import read_marcs_to_fv\n",
    "from stardis.raytrace import bb_nu, bb_lambda, calc_weights"
   ]
  },
  {
   "cell_type": "markdown",
   "metadata": {},
   "source": [
    "## Sun Spectrum"
   ]
  },
  {
   "cell_type": "code",
   "execution_count": null,
   "metadata": {
    "ExecuteTime": {
     "end_time": "2022-01-12T00:13:43.898096Z",
     "start_time": "2022-01-12T00:13:43.889976Z"
    }
   },
   "outputs": [],
   "source": [
    "sun_spec = pd.read_csv('data/solar_data/NewGuey2003.txt', skiprows=20, delim_whitespace=True, names=['wave', 'flux'])\n",
    "sun_spec['wave'] *= 10\n",
    "sun_spec['flux'] = u.Quantity(sun_spec['flux'].to_numpy(), \"W/(m2 nm)\").to(\"erg/(s cm2 AA)\").value\n",
    "plt.plot(sun_spec.wave, sun_spec.flux)\n",
    "plt.xlim(1000, 9000)"
   ]
  },
  {
   "cell_type": "markdown",
   "metadata": {},
   "source": [
    "## Model & Atomic Data"
   ]
  },
  {
   "cell_type": "code",
   "execution_count": null,
   "metadata": {
    "ExecuteTime": {
     "end_time": "2022-01-12T00:14:18.350556Z",
     "start_time": "2022-01-12T00:14:17.854617Z"
    }
   },
   "outputs": [],
   "source": [
    "adata = AtomData.from_hdf('kurucz_cd23_chianti_H_He.h5')\n",
    "marcs_model_fv, marcs_abundances_all, temps = read_marcs_to_fv('data/marcs/sun.mod', adata, 30)\n",
    "adata.prepare_atom_data(marcs_abundances_all.index.tolist())"
   ]
  },
  {
   "cell_type": "markdown",
   "metadata": {},
   "source": [
    "## Wavelengths and Frequencies"
   ]
  },
  {
   "cell_type": "code",
   "execution_count": null,
   "metadata": {},
   "outputs": [],
   "source": [
    "tracing_lambda = np.arange(1000, 10000, 10) * u.Angstrom\n",
    "tracing_nus = tracing_lambda.to(u.Hz, u.spectral())"
   ]
  },
  {
   "cell_type": "markdown",
   "metadata": {},
   "source": [
    "## Plasma"
   ]
  },
  {
   "cell_type": "code",
   "execution_count": null,
   "metadata": {
    "ExecuteTime": {
     "end_time": "2022-01-12T00:14:23.316905Z",
     "start_time": "2022-01-12T00:14:23.177261Z"
    }
   },
   "outputs": [],
   "source": [
    "splasma = create_splasma(marcs_model_fv, marcs_abundances_all, adata, tracing_nus)"
   ]
  },
  {
   "cell_type": "markdown",
   "metadata": {},
   "source": [
    "## Optical Depths"
   ]
  },
  {
   "cell_type": "code",
   "execution_count": null,
   "metadata": {},
   "outputs": [],
   "source": [
    "tau_nus = calc_tau_nus(splasma, marcs_model_fv,tracing_nus)"
   ]
  },
  {
   "cell_type": "code",
   "execution_count": null,
   "metadata": {},
   "outputs": [],
   "source": [
    "tau_h_minus = calc_tau_h_minus(\n",
    "    splasma,\n",
    "    marcs_model_fv,\n",
    "    tracing_nus,\n",
    "    wbr_fpath=\"data/wishart_broad_reinhardt_cross_section.dat\",\n",
    ")"
   ]
  },
  {
   "cell_type": "code",
   "execution_count": null,
   "metadata": {},
   "outputs": [],
   "source": [
    "tau_e = calc_tau_e(splasma,marcs_model_fv,tracing_nus)"
   ]
  },
  {
   "cell_type": "code",
   "execution_count": null,
   "metadata": {},
   "outputs": [],
   "source": [
    "tau_photo_H = calc_tau_photo(splasma,marcs_model_fv,tracing_nus,(1,0,1),7.91e-18,8.22e14)"
   ]
  },
  {
   "cell_type": "code",
   "execution_count": null,
   "metadata": {},
   "outputs": [],
   "source": [
    "all_taus = [tau_nus, tau_h_minus, tau_e, tau_photo_H]"
   ]
  },
  {
   "cell_type": "markdown",
   "metadata": {},
   "source": [
    "## Source Function"
   ]
  },
  {
   "cell_type": "code",
   "execution_count": null,
   "metadata": {},
   "outputs": [],
   "source": [
    "bb = bb_nu(tracing_nus, temps)"
   ]
  },
  {
   "cell_type": "code",
   "execution_count": null,
   "metadata": {},
   "outputs": [],
   "source": [
    "plt.plot(tracing_nus, bb[0])"
   ]
  },
  {
   "cell_type": "code",
   "execution_count": null,
   "metadata": {},
   "outputs": [],
   "source": []
  },
  {
   "cell_type": "code",
   "execution_count": null,
   "metadata": {},
   "outputs": [],
   "source": []
  },
  {
   "cell_type": "code",
   "execution_count": null,
   "metadata": {},
   "outputs": [],
   "source": []
  },
  {
   "cell_type": "code",
   "execution_count": null,
   "metadata": {},
   "outputs": [],
   "source": []
  },
  {
   "cell_type": "code",
   "execution_count": null,
   "metadata": {},
   "outputs": [],
   "source": []
  },
  {
   "cell_type": "code",
   "execution_count": null,
   "metadata": {},
   "outputs": [],
   "source": []
  },
  {
   "cell_type": "code",
   "execution_count": null,
   "metadata": {},
   "outputs": [],
   "source": []
  },
  {
   "cell_type": "code",
   "execution_count": null,
   "metadata": {},
   "outputs": [],
   "source": []
  },
  {
   "cell_type": "code",
   "execution_count": null,
   "metadata": {},
   "outputs": [],
   "source": []
  },
  {
   "cell_type": "code",
   "execution_count": null,
   "metadata": {},
   "outputs": [],
   "source": []
  },
  {
   "cell_type": "code",
   "execution_count": null,
   "metadata": {},
   "outputs": [],
   "source": []
  },
  {
   "cell_type": "code",
   "execution_count": null,
   "metadata": {},
   "outputs": [],
   "source": []
  },
  {
   "cell_type": "code",
   "execution_count": null,
   "metadata": {},
   "outputs": [],
   "source": []
  },
  {
   "cell_type": "code",
   "execution_count": null,
   "metadata": {},
   "outputs": [],
   "source": []
  },
  {
   "cell_type": "code",
   "execution_count": null,
   "metadata": {},
   "outputs": [],
   "source": []
  },
  {
   "cell_type": "code",
   "execution_count": null,
   "metadata": {},
   "outputs": [],
   "source": []
  },
  {
   "cell_type": "code",
   "execution_count": null,
   "metadata": {},
   "outputs": [],
   "source": []
  },
  {
   "cell_type": "code",
   "execution_count": null,
   "metadata": {},
   "outputs": [],
   "source": []
  },
  {
   "cell_type": "code",
   "execution_count": null,
   "metadata": {},
   "outputs": [],
   "source": []
  },
  {
   "cell_type": "code",
   "execution_count": null,
   "metadata": {},
   "outputs": [],
   "source": []
  },
  {
   "cell_type": "code",
   "execution_count": null,
   "metadata": {},
   "outputs": [],
   "source": []
  },
  {
   "cell_type": "code",
   "execution_count": null,
   "metadata": {},
   "outputs": [],
   "source": []
  },
  {
   "cell_type": "code",
   "execution_count": null,
   "metadata": {},
   "outputs": [],
   "source": []
  },
  {
   "cell_type": "code",
   "execution_count": null,
   "metadata": {},
   "outputs": [],
   "source": []
  },
  {
   "cell_type": "code",
   "execution_count": null,
   "metadata": {},
   "outputs": [],
   "source": []
  },
  {
   "cell_type": "code",
   "execution_count": null,
   "metadata": {},
   "outputs": [],
   "source": []
  },
  {
   "cell_type": "code",
   "execution_count": null,
   "metadata": {},
   "outputs": [],
   "source": []
  },
  {
   "cell_type": "code",
   "execution_count": null,
   "metadata": {
    "ExecuteTime": {
     "end_time": "2022-01-12T00:21:33.791098Z",
     "start_time": "2022-01-12T00:18:49.241816Z"
    }
   },
   "outputs": [],
   "source": [
    "# bb shape: (56, 800000), calculated at each cell boundary\n",
    "bb_prefactor = (2 * const.h.cgs * tracing_nus ** 3) / const.c.cgs ** 2\n",
    "bb = bb_prefactor / (\n",
    "    np.exp(\n",
    "        (\n",
    "            (const.h.cgs * tracing_nus)\n",
    "            / (const.k_B.cgs * temps * u.K)\n",
    "        ).value\n",
    "    )\n",
    "    - 1\n",
    ")"
   ]
  },
  {
   "cell_type": "code",
   "execution_count": null,
   "metadata": {},
   "outputs": [],
   "source": [
    "tw_cm = tracing_lambda.to(\"cm\")"
   ]
  },
  {
   "cell_type": "code",
   "execution_count": null,
   "metadata": {},
   "outputs": [],
   "source": [
    "bbw_prefactor = (2 * const.h.cgs * const.c.cgs ** 2) / (tracing_lambda) ** 5\n",
    "bbw = bbw_prefactor / (\n",
    "    np.exp(\n",
    "        (\n",
    "            (const.h.cgs * const.c.cgs)\n",
    "            / (const.k_B.cgs * tracing_lambda * temps * u.K)\n",
    "        )\n",
    "    )\n",
    "    - 1\n",
    ") * 1e-7"
   ]
  },
  {
   "cell_type": "code",
   "execution_count": null,
   "metadata": {},
   "outputs": [],
   "source": [
    "tw_cm"
   ]
  },
  {
   "cell_type": "code",
   "execution_count": null,
   "metadata": {},
   "outputs": [],
   "source": [
    "plt.plot(tracing_lambda,bbw[0])"
   ]
  },
  {
   "cell_type": "code",
   "execution_count": null,
   "metadata": {
    "scrolled": false
   },
   "outputs": [],
   "source": [
    "plt.plot(tracing_lambda,bb[0]*tracing_nus/tracing_lambda**2)"
   ]
  },
  {
   "cell_type": "code",
   "execution_count": null,
   "metadata": {},
   "outputs": [],
   "source": [
    "for i in range(55):\n",
    "    plt.plot(tracing_lambda,bbw[i])"
   ]
  },
  {
   "cell_type": "code",
   "execution_count": null,
   "metadata": {},
   "outputs": [],
   "source": [
    "for i in range(55):\n",
    "    plt.plot(tracing_nus,bb[i])"
   ]
  },
  {
   "cell_type": "code",
   "execution_count": null,
   "metadata": {},
   "outputs": [],
   "source": [
    "bb.shape"
   ]
  },
  {
   "cell_type": "code",
   "execution_count": null,
   "metadata": {},
   "outputs": [],
   "source": [
    "source = bb[1:].value \n",
    "delta_source = bb.diff(axis=0).value  # for cells, not boundary"
   ]
  },
  {
   "cell_type": "markdown",
   "metadata": {},
   "source": [
    "## Ray tracing"
   ]
  },
  {
   "cell_type": "code",
   "execution_count": null,
   "metadata": {},
   "outputs": [],
   "source": [
    "# I_nu (specific intensity) is calculated at each cell boundary, shape: (56,800000)\n",
    "I_nu = np.ones((delta_tau_lines.shape[1] + 1, len(tracing_nus))) * -99\n",
    "I_nu[0] = bb[0]  # the innermost boundary is photosphere\n",
    "num_of_shells = len(I_nu) - 1\n",
    "tau_photo_H_fn = calc_tau_photo(splasma,marcs_model_fv,tracing_nus,(1,0,1),7.91e-18,8.22e14)\n",
    "\n",
    "for i in range(len(tracing_nus)):  # iterating over nus (columns)\n",
    "    \n",
    "    nu = tracing_nus[i]\n",
    "\n",
    "    for j in range(num_of_shells):  # iterating over cells/shells (rows)\n",
    "        cur_tau_h_minus = tau_h_minus[j,i]\n",
    "        curr_tau_e = tau_e[j,i]\n",
    "        curr_tau_photo = tau_photo_H_fn[j,i]\n",
    "        curr_tau_nus = tau_nus[j,i]\n",
    "        \n",
    "        delta_tau_nu = tau_nus[j,i] + cur_tau_h_minus + curr_tau_photo + curr_tau_e #+ tauross[j] seems to improve\n",
    "        w0, w1 = calc_weights(delta_tau_nu)\n",
    "\n",
    "        if tau_nus[j,i] == 0:\n",
    "            second_term = 0\n",
    "        else:\n",
    "            second_term = w1 * delta_source[j, i] / delta_tau_nu\n",
    "\n",
    "        I_nu[j + 1, i] = (1 - w0) * I_nu[j, i] + w0 * source[j, i] + second_term # van Noort 2001 eq 14"
   ]
  },
  {
   "cell_type": "markdown",
   "metadata": {},
   "source": [
    "## Plotting"
   ]
  },
  {
   "cell_type": "code",
   "execution_count": null,
   "metadata": {
    "ExecuteTime": {
     "end_time": "2022-01-12T00:21:45.266403Z",
     "start_time": "2022-01-12T00:21:45.091024Z"
    },
    "scrolled": true
   },
   "outputs": [],
   "source": [
    "I_lambda = (I_nu[55])*tracing_nus/tracing_lambda\n",
    "\n",
    "cur_bb = bb[0]*tracing_nus/tracing_lambda #TODO: check why 0, shouldn't it be 55 like I_nu?\n",
    "\n",
    "plt.plot(tracing_lambda, I_lambda, label=\"I\")\n",
    "plt.plot(tracing_lambda, cur_bb, label=\"BB\")\n",
    "# plt.xlim(4330,4350) # to see 1st feature\n",
    "# plt.xlim(6500, 6600) # to see last feature\n",
    "#plt.xlim(2000,10000) \n",
    "plt.legend()"
   ]
  },
  {
   "cell_type": "code",
   "execution_count": null,
   "metadata": {},
   "outputs": [],
   "source": [
    "plt.figure(figsize=(10,6))\n",
    "flux = 2*np.pi*1e-5*ndimage.gaussian_filter1d(I_lambda, 1)\n",
    "plt.plot(tracing_lambda, flux, label=\"F\")\n",
    "plt.plot(sun_spec.wave, sun_spec.flux, label=\"$F_{sun}$\")\n",
    "plt.plot(tracing_lambda,bbw[14], label=\"BB of some temp\")\n",
    "\n",
    "plt.xlim((1000,10000))\n",
    "plt.legend()"
   ]
  },
  {
   "cell_type": "markdown",
   "metadata": {},
   "source": [
    "## Scratch Work"
   ]
  },
  {
   "cell_type": "code",
   "execution_count": null,
   "metadata": {},
   "outputs": [],
   "source": [
    "kappaross_diff = -np.diff(marcs_model_fv.kappaross)\n",
    "kappaross_diff = kappaross_diff\n",
    "kappaross_diff = np.append(kappaross_diff,marcs_model_fv.kappaross[54])\n",
    "kappaross_diff"
   ]
  },
  {
   "cell_type": "code",
   "execution_count": null,
   "metadata": {},
   "outputs": [],
   "source": [
    "tauross = kappaross_diff*marcs_model_fv.density*marcs_model_fv.cell_length\n",
    "tauross"
   ]
  }
 ],
 "metadata": {
  "kernelspec": {
   "display_name": "Python 3 (ipykernel)",
   "language": "python",
   "name": "python3"
  },
  "language_info": {
   "codemirror_mode": {
    "name": "ipython",
    "version": 3
   },
   "file_extension": ".py",
   "mimetype": "text/x-python",
   "name": "python",
   "nbconvert_exporter": "python",
   "pygments_lexer": "ipython3",
   "version": "3.8.13"
  },
  "toc": {
   "base_numbering": 1,
   "nav_menu": {},
   "number_sections": true,
   "sideBar": true,
   "skip_h1_title": false,
   "title_cell": "Table of Contents",
   "title_sidebar": "Contents",
   "toc_cell": false,
   "toc_position": {},
   "toc_section_display": true,
   "toc_window_display": false
  },
  "vscode": {
   "interpreter": {
    "hash": "fa8628d2318bd99a3d47e52206e03625a3fa16b2b0ce3640eae09b1452043fd1"
   }
  },
  "widgets": {
   "application/vnd.jupyter.widget-state+json": {
    "state": {
     "00f819ed799047a5906a7d5e61c7f216": {
      "model_module": "@jupyter-widgets/controls",
      "model_module_version": "1.5.0",
      "model_name": "DescriptionStyleModel",
      "state": {
       "description_width": ""
      }
     },
     "15e49533d7ac4a2d96ea59e47e3f4a07": {
      "model_module": "@jupyter-widgets/base",
      "model_module_version": "1.2.0",
      "model_name": "LayoutModel",
      "state": {}
     },
     "2018d7f561e74bc98e0446b10b4840c3": {
      "model_module": "@jupyter-widgets/controls",
      "model_module_version": "1.5.0",
      "model_name": "HTMLModel",
      "state": {
       "layout": "IPY_MODEL_40cefbf886cf43f0ac75d3b2e715e14b",
       "style": "IPY_MODEL_4122c14de3a446c48cfde959ff0fb983",
       "value": "Packets:   "
      }
     },
     "33dcea8f09054164a9b9688375fd0411": {
      "model_module": "@jupyter-widgets/controls",
      "model_module_version": "1.5.0",
      "model_name": "DescriptionStyleModel",
      "state": {
       "description_width": ""
      }
     },
     "37a00d7d49bd4fe5af75d5734dbb837e": {
      "model_module": "@jupyter-widgets/controls",
      "model_module_version": "1.5.0",
      "model_name": "ProgressStyleModel",
      "state": {
       "description_width": ""
      }
     },
     "392463d3620a4a039960ef3691958b77": {
      "model_module": "@jupyter-widgets/base",
      "model_module_version": "1.2.0",
      "model_name": "LayoutModel",
      "state": {
       "width": "20px"
      }
     },
     "40cefbf886cf43f0ac75d3b2e715e14b": {
      "model_module": "@jupyter-widgets/base",
      "model_module_version": "1.2.0",
      "model_name": "LayoutModel",
      "state": {}
     },
     "4122c14de3a446c48cfde959ff0fb983": {
      "model_module": "@jupyter-widgets/controls",
      "model_module_version": "1.5.0",
      "model_name": "DescriptionStyleModel",
      "state": {
       "description_width": ""
      }
     },
     "52bef6fac46d49f6939c23f6c917445b": {
      "model_module": "@jupyter-widgets/output",
      "model_module_version": "1.0.0",
      "model_name": "OutputModel",
      "state": {
       "layout": "IPY_MODEL_f138d85378eb4aa9870eb7fe83adb223"
      }
     },
     "57a0a4ca909a4bc18782b71875345306": {
      "model_module": "@jupyter-widgets/controls",
      "model_module_version": "1.5.0",
      "model_name": "HTMLModel",
      "state": {
       "layout": "IPY_MODEL_98de0cd6510446f796adcf41b6ecc9db",
       "style": "IPY_MODEL_69d09d371a0b402a855e6635e6df1565",
       "value": "Iterations:"
      }
     },
     "69d09d371a0b402a855e6635e6df1565": {
      "model_module": "@jupyter-widgets/controls",
      "model_module_version": "1.5.0",
      "model_name": "DescriptionStyleModel",
      "state": {
       "description_width": ""
      }
     },
     "6d929ffee2ad43d5bcb6602ff7f03909": {
      "model_module": "@jupyter-widgets/base",
      "model_module_version": "1.2.0",
      "model_name": "LayoutModel",
      "state": {}
     },
     "730a485e1b2d43c8a43c41d04175301d": {
      "model_module": "@jupyter-widgets/controls",
      "model_module_version": "1.5.0",
      "model_name": "FloatProgressModel",
      "state": {
       "bar_style": "info",
       "layout": "IPY_MODEL_e2d8d3a635304aad81405d9d5b95bec7",
       "max": 1,
       "style": "IPY_MODEL_37a00d7d49bd4fe5af75d5734dbb837e"
      }
     },
     "8381733a4c7d40919c4b499ae4ea7176": {
      "model_module": "@jupyter-widgets/base",
      "model_module_version": "1.2.0",
      "model_name": "LayoutModel",
      "state": {}
     },
     "83feaa81d08346faa342e166c83cf39a": {
      "model_module": "@jupyter-widgets/controls",
      "model_module_version": "1.5.0",
      "model_name": "ProgressStyleModel",
      "state": {
       "description_width": ""
      }
     },
     "98de0cd6510446f796adcf41b6ecc9db": {
      "model_module": "@jupyter-widgets/base",
      "model_module_version": "1.2.0",
      "model_name": "LayoutModel",
      "state": {}
     },
     "9e39a3954b10495a818558ac43451167": {
      "model_module": "@jupyter-widgets/controls",
      "model_module_version": "1.5.0",
      "model_name": "HTMLModel",
      "state": {
       "layout": "IPY_MODEL_15e49533d7ac4a2d96ea59e47e3f4a07",
       "style": "IPY_MODEL_33dcea8f09054164a9b9688375fd0411",
       "value": "0/? [00:00&lt;?, ?it/s]"
      }
     },
     "b1de1f9260c9480e811e0b2d9bfa683a": {
      "model_module": "@jupyter-widgets/base",
      "model_module_version": "1.2.0",
      "model_name": "LayoutModel",
      "state": {}
     },
     "cb2dd126ec0244018ce8a48d49f553f2": {
      "model_module": "@jupyter-widgets/base",
      "model_module_version": "1.2.0",
      "model_name": "LayoutModel",
      "state": {}
     },
     "d3fbfa09645942d3ba99918fa2958360": {
      "model_module": "@jupyter-widgets/controls",
      "model_module_version": "1.5.0",
      "model_name": "FloatProgressModel",
      "state": {
       "bar_style": "info",
       "layout": "IPY_MODEL_392463d3620a4a039960ef3691958b77",
       "max": 1,
       "style": "IPY_MODEL_83feaa81d08346faa342e166c83cf39a"
      }
     },
     "e2d8d3a635304aad81405d9d5b95bec7": {
      "model_module": "@jupyter-widgets/base",
      "model_module_version": "1.2.0",
      "model_name": "LayoutModel",
      "state": {
       "width": "20px"
      }
     },
     "e63ae5a55cdd445380d2288999df9c38": {
      "model_module": "@jupyter-widgets/controls",
      "model_module_version": "1.5.0",
      "model_name": "HTMLModel",
      "state": {
       "layout": "IPY_MODEL_6d929ffee2ad43d5bcb6602ff7f03909",
       "style": "IPY_MODEL_00f819ed799047a5906a7d5e61c7f216",
       "value": "0/? [00:00&lt;?, ?it/s]"
      }
     },
     "e6c5089217494a3c9e38d393f4844273": {
      "model_module": "@jupyter-widgets/output",
      "model_module_version": "1.0.0",
      "model_name": "OutputModel",
      "state": {
       "layout": "IPY_MODEL_8381733a4c7d40919c4b499ae4ea7176"
      }
     },
     "f138d85378eb4aa9870eb7fe83adb223": {
      "model_module": "@jupyter-widgets/base",
      "model_module_version": "1.2.0",
      "model_name": "LayoutModel",
      "state": {}
     }
    },
    "version_major": 2,
    "version_minor": 0
   }
  }
 },
 "nbformat": 4,
 "nbformat_minor": 4
}
