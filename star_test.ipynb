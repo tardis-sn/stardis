{
    "cells": [
     {
      "cell_type": "markdown",
      "metadata": {},
      "source": [
       "# STARDIS"
      ]
     },
     {
      "cell_type": "code",
      "execution_count": null,
      "metadata": {
       "ExecuteTime": {
        "end_time": "2022-01-12T00:13:43.539653Z",
        "start_time": "2022-01-12T00:13:40.679189Z"
       }
      },
      "outputs": [],
      "source": [
       "import numpy as np\n",
       "import pandas as pd\n",
       "import matplotlib.pyplot as plt\n",
       "from scipy import ndimage\n",
       "\n",
       "from tardis.io.atom_data import AtomData\n",
       "\n",
       "from astropy import units as u, constants as const\n",
       "\n",
       "from stardis.io import read_marcs_to_fv\n",
       "from stardis.plasma import create_splasma\n",
       "from stardis.opacities import calc_tau_h_minus, calc_tau_e, calc_tau_line, calc_tau_photo\n",
       "from stardis.raytrace import bb_nu, bb_lambda, raytrace"
      ]
     },
     {
      "cell_type": "markdown",
      "metadata": {},
      "source": [
       "## Sun Spectrum"
      ]
     },
     {
      "cell_type": "code",
      "execution_count": null,
      "metadata": {
       "ExecuteTime": {
        "end_time": "2022-01-12T00:13:43.898096Z",
        "start_time": "2022-01-12T00:13:43.889976Z"
       }
      },
      "outputs": [],
      "source": [
       "sun_spec = pd.read_csv('data/solar_data/NewGuey2003.txt', skiprows=20, delim_whitespace=True, names=['wave', 'flux'])\n",
       "sun_spec['wave'] *= 10\n",
       "sun_spec['flux'] = u.Quantity(sun_spec['flux'].to_numpy(), \"W/(m2 nm)\").to(\"erg/(s cm2 AA)\").value\n",
       "plt.plot(sun_spec.wave, sun_spec.flux)\n",
       "plt.xlim(1000, 10000);"
      ]
     },
     {
      "cell_type": "markdown",
      "metadata": {},
      "source": [
       "## Model & Atomic Data"
      ]
     },
     {
      "cell_type": "code",
      "execution_count": null,
      "metadata": {
       "ExecuteTime": {
        "end_time": "2022-01-12T00:14:18.350556Z",
        "start_time": "2022-01-12T00:14:17.854617Z"
       }
      },
      "outputs": [],
      "source": [
       "adata = AtomData.from_hdf('kurucz_cd23_chianti_H_He.h5')\n",
       "marcs_model_fv, marcs_abundances_all, boundary_temps = read_marcs_to_fv('data/marcs/sun.mod', adata, 30)\n",
       "adata.prepare_atom_data(marcs_abundances_all.index.tolist())"
      ]
     },
     {
      "cell_type": "markdown",
      "metadata": {},
      "source": [
       "## Wavelengths and Frequencies"
      ]
     },
     {
      "cell_type": "code",
      "execution_count": null,
      "metadata": {},
      "outputs": [],
      "source": [
       "tracing_lambdas = np.arange(3800, 6800, 1) * u.Angstrom\n",
       "tracing_nus = tracing_lambdas.to(u.Hz, u.spectral())"
      ]
     },
     {
      "cell_type": "markdown",
      "metadata": {},
      "source": [
       "## Plasma"
      ]
     },
     {
      "cell_type": "code",
      "execution_count": null,
      "metadata": {
       "ExecuteTime": {
        "end_time": "2022-01-12T00:14:23.316905Z",
        "start_time": "2022-01-12T00:14:23.177261Z"
       }
      },
      "outputs": [],
      "source": [
       "splasma = create_splasma(marcs_model_fv, marcs_abundances_all, adata)"
      ]
     },
     {
      "cell_type": "markdown",
      "metadata": {},
      "source": [
       "## Optical Depths"
      ]
     },
     {
      "cell_type": "code",
      "execution_count": null,
      "metadata": {
       "scrolled": true
      },
      "outputs": [],
      "source": [
       "tau_line = calc_tau_line(splasma, marcs_model_fv, tracing_nus)"
      ]
     },
     {
      "cell_type": "code",
      "execution_count": null,
      "metadata": {},
      "outputs": [],
      "source": [
       "tau_h_minus = calc_tau_h_minus(\n",
       "    splasma,\n",
       "    marcs_model_fv,\n",
       "    tracing_nus,\n",
       "    wbr_fpath=\"data/wishart_broad_reinhardt_cross_section.dat\",\n",
       ")"
      ]
     },
     {
      "cell_type": "code",
      "execution_count": null,
      "metadata": {},
      "outputs": [],
      "source": [
       "tau_e = calc_tau_e(splasma, marcs_model_fv, tracing_nus)"
      ]
     },
     {
      "cell_type": "code",
      "execution_count": null,
      "metadata": {},
      "outputs": [],
      "source": [
       "tau_photo_H = ( calc_tau_photo(splasma, marcs_model_fv, tracing_nus, (1,0,1), 7.91e-18, 8.22e14)\n",
       "               + calc_tau_photo(splasma, marcs_model_fv, tracing_nus, (1,0,2), 7.91e-18, 8.22e14)\n",
       "               + calc_tau_photo(splasma, marcs_model_fv, tracing_nus, (1,0,3), 7.91e-18, 8.22e14) )"
      ]
     },
     {
      "cell_type": "code",
      "execution_count": null,
      "metadata": {},
      "outputs": [],
      "source": [
       "all_taus = [tau_line, tau_h_minus, tau_e, tau_photo_H]"
      ]
     },
     {
      "cell_type": "markdown",
      "metadata": {},
      "source": [
       "## Source Function"
      ]
     },
     {
      "cell_type": "code",
      "execution_count": null,
      "metadata": {},
      "outputs": [],
      "source": [
       "bb = bb_nu(tracing_nus, boundary_temps)\n",
       "plt.plot(tracing_nus, bb[0]);"
      ]
     },
     {
      "cell_type": "code",
      "execution_count": null,
      "metadata": {},
      "outputs": [],
      "source": [
       "bbw = bb_lambda(tracing_lambdas, boundary_temps)\n",
       "plt.plot(tracing_lambdas, bbw[0]);"
      ]
     },
     {
      "cell_type": "code",
      "execution_count": null,
      "metadata": {},
      "outputs": [],
      "source": [
       "bbw_test = bb*tracing_nus/tracing_lambdas\n",
       "plt.plot(tracing_lambdas, bbw_test[0]);"
      ]
     },
     {
      "cell_type": "markdown",
      "metadata": {},
      "source": [
       "## Ray tracing"
      ]
     },
     {
      "cell_type": "code",
      "execution_count": null,
      "metadata": {},
      "outputs": [],
      "source": [
       "I_nu = raytrace(bb, all_taus, tracing_nus, len(marcs_model_fv))"
      ]
     },
     {
      "cell_type": "markdown",
      "metadata": {},
      "source": [
       "## Plotting"
      ]
     },
     {
      "cell_type": "code",
      "execution_count": null,
      "metadata": {},
      "outputs": [],
      "source": [
       "I_lambda = I_nu[55] * tracing_nus/tracing_lambdas\n",
       "\n",
       "# R_sun/r_sun-to-earth = 0.00458\n",
       "intensity_to_flux = np.pi * 0.00458**2\n",
       "\n",
       "F_lambda = intensity_to_flux * I_lambda\n",
       "\n",
       "smooth_F_lambda = ndimage.gaussian_filter1d(F_lambda, 7)"
      ]
     },
     {
      "cell_type": "code",
      "execution_count": null,
      "metadata": {},
      "outputs": [],
      "source": [
       "#%matplotlib notebook\n",
       "\n",
       "plt.figure(figsize=(10,6))\n",
       "plt.plot(tracing_lambdas, smooth_F_lambda, label=\"$F_\\lambda$\")\n",
       "plt.plot(sun_spec.wave, sun_spec.flux, label=\"$F_{sun}$\")\n",
       "bb_index = 17\n",
       "plt.plot(tracing_lambdas, intensity_to_flux * bbw[bb_index], label=\"$F_{blackbody}\"+f\"({boundary_temps[bb_index][0]}\\ K)$\")\n",
       "\n",
       "plt.xlim((1000,10000))\n",
       "plt.legend();"
      ]
     }
    ],
    "metadata": {
     "kernelspec": {
      "display_name": "Python 3 (ipykernel)",
      "language": "python",
      "name": "python3"
     },
     "language_info": {
      "codemirror_mode": {
       "name": "ipython",
       "version": 3
      },
      "file_extension": ".py",
      "mimetype": "text/x-python",
      "name": "python",
      "nbconvert_exporter": "python",
      "pygments_lexer": "ipython3",
      "version": "3.8.13"
     },
     "toc": {
      "base_numbering": 1,
      "nav_menu": {},
      "number_sections": true,
      "sideBar": true,
      "skip_h1_title": false,
      "title_cell": "Table of Contents",
      "title_sidebar": "Contents",
      "toc_cell": false,
      "toc_position": {},
      "toc_section_display": true,
      "toc_window_display": false
     },
     "vscode": {
      "interpreter": {
       "hash": "fa8628d2318bd99a3d47e52206e03625a3fa16b2b0ce3640eae09b1452043fd1"
      }
     },
     "widgets": {
      "application/vnd.jupyter.widget-state+json": {
       "state": {
        "00f819ed799047a5906a7d5e61c7f216": {
         "model_module": "@jupyter-widgets/controls",
         "model_module_version": "1.5.0",
         "model_name": "DescriptionStyleModel",
         "state": {
          "description_width": ""
         }
        },
        "15e49533d7ac4a2d96ea59e47e3f4a07": {
         "model_module": "@jupyter-widgets/base",
         "model_module_version": "1.2.0",
         "model_name": "LayoutModel",
         "state": {}
        },
        "2018d7f561e74bc98e0446b10b4840c3": {
         "model_module": "@jupyter-widgets/controls",
         "model_module_version": "1.5.0",
         "model_name": "HTMLModel",
         "state": {
          "layout": "IPY_MODEL_40cefbf886cf43f0ac75d3b2e715e14b",
          "style": "IPY_MODEL_4122c14de3a446c48cfde959ff0fb983",
          "value": "Packets:   "
         }
        },
        "33dcea8f09054164a9b9688375fd0411": {
         "model_module": "@jupyter-widgets/controls",
         "model_module_version": "1.5.0",
         "model_name": "DescriptionStyleModel",
         "state": {
          "description_width": ""
         }
        },
        "37a00d7d49bd4fe5af75d5734dbb837e": {
         "model_module": "@jupyter-widgets/controls",
         "model_module_version": "1.5.0",
         "model_name": "ProgressStyleModel",
         "state": {
          "description_width": ""
         }
        },
        "392463d3620a4a039960ef3691958b77": {
         "model_module": "@jupyter-widgets/base",
         "model_module_version": "1.2.0",
         "model_name": "LayoutModel",
         "state": {
          "width": "20px"
         }
        },
        "40cefbf886cf43f0ac75d3b2e715e14b": {
         "model_module": "@jupyter-widgets/base",
         "model_module_version": "1.2.0",
         "model_name": "LayoutModel",
         "state": {}
        },
        "4122c14de3a446c48cfde959ff0fb983": {
         "model_module": "@jupyter-widgets/controls",
         "model_module_version": "1.5.0",
         "model_name": "DescriptionStyleModel",
         "state": {
          "description_width": ""
         }
        },
        "52bef6fac46d49f6939c23f6c917445b": {
         "model_module": "@jupyter-widgets/output",
         "model_module_version": "1.0.0",
         "model_name": "OutputModel",
         "state": {
          "layout": "IPY_MODEL_f138d85378eb4aa9870eb7fe83adb223"
         }
        },
        "57a0a4ca909a4bc18782b71875345306": {
         "model_module": "@jupyter-widgets/controls",
         "model_module_version": "1.5.0",
         "model_name": "HTMLModel",
         "state": {
          "layout": "IPY_MODEL_98de0cd6510446f796adcf41b6ecc9db",
          "style": "IPY_MODEL_69d09d371a0b402a855e6635e6df1565",
          "value": "Iterations:"
         }
        },
        "69d09d371a0b402a855e6635e6df1565": {
         "model_module": "@jupyter-widgets/controls",
         "model_module_version": "1.5.0",
         "model_name": "DescriptionStyleModel",
         "state": {
          "description_width": ""
         }
        },
        "6d929ffee2ad43d5bcb6602ff7f03909": {
         "model_module": "@jupyter-widgets/base",
         "model_module_version": "1.2.0",
         "model_name": "LayoutModel",
         "state": {}
        },
        "730a485e1b2d43c8a43c41d04175301d": {
         "model_module": "@jupyter-widgets/controls",
         "model_module_version": "1.5.0",
         "model_name": "FloatProgressModel",
         "state": {
          "bar_style": "info",
          "layout": "IPY_MODEL_e2d8d3a635304aad81405d9d5b95bec7",
          "max": 1,
          "style": "IPY_MODEL_37a00d7d49bd4fe5af75d5734dbb837e"
         }
        },
        "8381733a4c7d40919c4b499ae4ea7176": {
         "model_module": "@jupyter-widgets/base",
         "model_module_version": "1.2.0",
         "model_name": "LayoutModel",
         "state": {}
        },
        "83feaa81d08346faa342e166c83cf39a": {
         "model_module": "@jupyter-widgets/controls",
         "model_module_version": "1.5.0",
         "model_name": "ProgressStyleModel",
         "state": {
          "description_width": ""
         }
        },
        "98de0cd6510446f796adcf41b6ecc9db": {
         "model_module": "@jupyter-widgets/base",
         "model_module_version": "1.2.0",
         "model_name": "LayoutModel",
         "state": {}
        },
        "9e39a3954b10495a818558ac43451167": {
         "model_module": "@jupyter-widgets/controls",
         "model_module_version": "1.5.0",
         "model_name": "HTMLModel",
         "state": {
          "layout": "IPY_MODEL_15e49533d7ac4a2d96ea59e47e3f4a07",
          "style": "IPY_MODEL_33dcea8f09054164a9b9688375fd0411",
          "value": "0/? [00:00&lt;?, ?it/s]"
         }
        },
        "b1de1f9260c9480e811e0b2d9bfa683a": {
         "model_module": "@jupyter-widgets/base",
         "model_module_version": "1.2.0",
         "model_name": "LayoutModel",
         "state": {}
        },
        "cb2dd126ec0244018ce8a48d49f553f2": {
         "model_module": "@jupyter-widgets/base",
         "model_module_version": "1.2.0",
         "model_name": "LayoutModel",
         "state": {}
        },
        "d3fbfa09645942d3ba99918fa2958360": {
         "model_module": "@jupyter-widgets/controls",
         "model_module_version": "1.5.0",
         "model_name": "FloatProgressModel",
         "state": {
          "bar_style": "info",
          "layout": "IPY_MODEL_392463d3620a4a039960ef3691958b77",
          "max": 1,
          "style": "IPY_MODEL_83feaa81d08346faa342e166c83cf39a"
         }
        },
        "e2d8d3a635304aad81405d9d5b95bec7": {
         "model_module": "@jupyter-widgets/base",
         "model_module_version": "1.2.0",
         "model_name": "LayoutModel",
         "state": {
          "width": "20px"
         }
        },
        "e63ae5a55cdd445380d2288999df9c38": {
         "model_module": "@jupyter-widgets/controls",
         "model_module_version": "1.5.0",
         "model_name": "HTMLModel",
         "state": {
          "layout": "IPY_MODEL_6d929ffee2ad43d5bcb6602ff7f03909",
          "style": "IPY_MODEL_00f819ed799047a5906a7d5e61c7f216",
          "value": "0/? [00:00&lt;?, ?it/s]"
         }
        },
        "e6c5089217494a3c9e38d393f4844273": {
         "model_module": "@jupyter-widgets/output",
         "model_module_version": "1.0.0",
         "model_name": "OutputModel",
         "state": {
          "layout": "IPY_MODEL_8381733a4c7d40919c4b499ae4ea7176"
         }
        },
        "f138d85378eb4aa9870eb7fe83adb223": {
         "model_module": "@jupyter-widgets/base",
         "model_module_version": "1.2.0",
         "model_name": "LayoutModel",
         "state": {}
        }
       },
       "version_major": 2,
       "version_minor": 0
      }
     }
    },
    "nbformat": 4,
    "nbformat_minor": 4
   }