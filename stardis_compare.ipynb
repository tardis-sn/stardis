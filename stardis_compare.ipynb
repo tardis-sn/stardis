{
 "cells": [
  {
   "cell_type": "markdown",
   "metadata": {},
   "source": [
    "# STARDIS"
   ]
  },
  {
   "cell_type": "code",
   "execution_count": null,
   "metadata": {},
   "outputs": [],
   "source": [
    "# Useful for development\n",
    "\n",
    "%load_ext autoreload\n",
    "%autoreload 2"
   ]
  },
  {
   "cell_type": "code",
   "execution_count": null,
   "metadata": {
    "ExecuteTime": {
     "end_time": "2022-01-12T00:13:43.539653Z",
     "start_time": "2022-01-12T00:13:40.679189Z"
    }
   },
   "outputs": [],
   "source": [
    "# Import necessary code\n",
    "\n",
    "import numpy as np\n",
    "import pandas as pd\n",
    "import matplotlib.pyplot as plt\n",
    "from scipy import ndimage\n",
    "\n",
    "from stardis.base import run_stardis\n",
    "\n",
    "from astropy import units as u, constants as const"
   ]
  },
  {
   "cell_type": "code",
   "execution_count": null,
   "metadata": {
    "ExecuteTime": {
     "end_time": "2022-01-12T00:13:43.898096Z",
     "start_time": "2022-01-12T00:13:43.889976Z"
    }
   },
   "outputs": [],
   "source": [
    "phoenix = pd.read_csv(\"data/solar_data/sun_spec.csv\")\n",
    "start = 6500\n",
    "end = 6600\n",
    "phoenix_in_range = phoenix[phoenix['wavelength'].between(start, end)]"
   ]
  },
  {
   "cell_type": "code",
   "execution_count": null,
   "metadata": {},
   "outputs": [],
   "source": [
    "tracing_lambdas = phoenix_in_range['wavelength'].values * u.Angstrom\n",
    "\n",
    "sim = run_stardis(\n",
    "    'kurucz_cd23_chianti_H_He.h5',  \n",
    "    'data/marcs/sun.mod',\n",
    "    tracing_lambdas,\n",
    "    wbr_fpath=\"data/wishart_broad_reinhardt_cross_section.dat\",\n",
    "    no_of_thetas=10,\n",
    "    broadening_methods=[\"doppler\", \"linear_stark\", \"quadratic_stark\", \"radiation\"]\n",
    ")\n"
   ]
  },
  {
   "cell_type": "code",
   "execution_count": null,
   "metadata": {},
   "outputs": [],
   "source": [
    "# Plot spectra\n",
    "\n",
    "%matplotlib notebook\n",
    "\n",
    "plt.figure(figsize=(10,6))\n",
    "plt.plot(sim.lambdas, sim.spectrum_lambda, label=\"STARDIS\")\n",
    "plt.plot(phoenix_in_range.wavelength, phoenix_in_range.flux*1e-8, label=\"PHOENIX\")\n",
    "\n",
    "plt.xlim((start,end))\n",
    "plt.legend();"
   ]
  }
 ],
 "metadata": {
  "kernelspec": {
   "display_name": "Python 3 (ipykernel)",
   "language": "python",
   "name": "python3"
  },
  "language_info": {
   "codemirror_mode": {
    "name": "ipython",
    "version": 3
   },
   "file_extension": ".py",
   "mimetype": "text/x-python",
   "name": "python",
   "nbconvert_exporter": "python",
   "pygments_lexer": "ipython3",
   "version": "3.8.13"
  },
  "toc": {
   "base_numbering": 1,
   "nav_menu": {},
   "number_sections": true,
   "sideBar": true,
   "skip_h1_title": false,
   "title_cell": "Table of Contents",
   "title_sidebar": "Contents",
   "toc_cell": false,
   "toc_position": {},
   "toc_section_display": true,
   "toc_window_display": false
  },
  "vscode": {
   "interpreter": {
    "hash": "fa8628d2318bd99a3d47e52206e03625a3fa16b2b0ce3640eae09b1452043fd1"
   }
  },
  "widgets": {
   "application/vnd.jupyter.widget-state+json": {
    "state": {
     "00f819ed799047a5906a7d5e61c7f216": {
      "model_module": "@jupyter-widgets/controls",
      "model_module_version": "1.5.0",
      "model_name": "DescriptionStyleModel",
      "state": {
       "description_width": ""
      }
     },
     "15e49533d7ac4a2d96ea59e47e3f4a07": {
      "model_module": "@jupyter-widgets/base",
      "model_module_version": "1.2.0",
      "model_name": "LayoutModel",
      "state": {}
     },
     "2018d7f561e74bc98e0446b10b4840c3": {
      "model_module": "@jupyter-widgets/controls",
      "model_module_version": "1.5.0",
      "model_name": "HTMLModel",
      "state": {
       "layout": "IPY_MODEL_40cefbf886cf43f0ac75d3b2e715e14b",
       "style": "IPY_MODEL_4122c14de3a446c48cfde959ff0fb983",
       "value": "Packets:   "
      }
     },
     "33dcea8f09054164a9b9688375fd0411": {
      "model_module": "@jupyter-widgets/controls",
      "model_module_version": "1.5.0",
      "model_name": "DescriptionStyleModel",
      "state": {
       "description_width": ""
      }
     },
     "37a00d7d49bd4fe5af75d5734dbb837e": {
      "model_module": "@jupyter-widgets/controls",
      "model_module_version": "1.5.0",
      "model_name": "ProgressStyleModel",
      "state": {
       "description_width": ""
      }
     },
     "392463d3620a4a039960ef3691958b77": {
      "model_module": "@jupyter-widgets/base",
      "model_module_version": "1.2.0",
      "model_name": "LayoutModel",
      "state": {
       "width": "20px"
      }
     },
     "40cefbf886cf43f0ac75d3b2e715e14b": {
      "model_module": "@jupyter-widgets/base",
      "model_module_version": "1.2.0",
      "model_name": "LayoutModel",
      "state": {}
     },
     "4122c14de3a446c48cfde959ff0fb983": {
      "model_module": "@jupyter-widgets/controls",
      "model_module_version": "1.5.0",
      "model_name": "DescriptionStyleModel",
      "state": {
       "description_width": ""
      }
     },
     "52bef6fac46d49f6939c23f6c917445b": {
      "model_module": "@jupyter-widgets/output",
      "model_module_version": "1.0.0",
      "model_name": "OutputModel",
      "state": {
       "layout": "IPY_MODEL_f138d85378eb4aa9870eb7fe83adb223"
      }
     },
     "57a0a4ca909a4bc18782b71875345306": {
      "model_module": "@jupyter-widgets/controls",
      "model_module_version": "1.5.0",
      "model_name": "HTMLModel",
      "state": {
       "layout": "IPY_MODEL_98de0cd6510446f796adcf41b6ecc9db",
       "style": "IPY_MODEL_69d09d371a0b402a855e6635e6df1565",
       "value": "Iterations:"
      }
     },
     "69d09d371a0b402a855e6635e6df1565": {
      "model_module": "@jupyter-widgets/controls",
      "model_module_version": "1.5.0",
      "model_name": "DescriptionStyleModel",
      "state": {
       "description_width": ""
      }
     },
     "6d929ffee2ad43d5bcb6602ff7f03909": {
      "model_module": "@jupyter-widgets/base",
      "model_module_version": "1.2.0",
      "model_name": "LayoutModel",
      "state": {}
     },
     "730a485e1b2d43c8a43c41d04175301d": {
      "model_module": "@jupyter-widgets/controls",
      "model_module_version": "1.5.0",
      "model_name": "FloatProgressModel",
      "state": {
       "bar_style": "info",
       "layout": "IPY_MODEL_e2d8d3a635304aad81405d9d5b95bec7",
       "max": 1,
       "style": "IPY_MODEL_37a00d7d49bd4fe5af75d5734dbb837e"
      }
     },
     "8381733a4c7d40919c4b499ae4ea7176": {
      "model_module": "@jupyter-widgets/base",
      "model_module_version": "1.2.0",
      "model_name": "LayoutModel",
      "state": {}
     },
     "83feaa81d08346faa342e166c83cf39a": {
      "model_module": "@jupyter-widgets/controls",
      "model_module_version": "1.5.0",
      "model_name": "ProgressStyleModel",
      "state": {
       "description_width": ""
      }
     },
     "98de0cd6510446f796adcf41b6ecc9db": {
      "model_module": "@jupyter-widgets/base",
      "model_module_version": "1.2.0",
      "model_name": "LayoutModel",
      "state": {}
     },
     "9e39a3954b10495a818558ac43451167": {
      "model_module": "@jupyter-widgets/controls",
      "model_module_version": "1.5.0",
      "model_name": "HTMLModel",
      "state": {
       "layout": "IPY_MODEL_15e49533d7ac4a2d96ea59e47e3f4a07",
       "style": "IPY_MODEL_33dcea8f09054164a9b9688375fd0411",
       "value": "0/? [00:00&lt;?, ?it/s]"
      }
     },
     "b1de1f9260c9480e811e0b2d9bfa683a": {
      "model_module": "@jupyter-widgets/base",
      "model_module_version": "1.2.0",
      "model_name": "LayoutModel",
      "state": {}
     },
     "cb2dd126ec0244018ce8a48d49f553f2": {
      "model_module": "@jupyter-widgets/base",
      "model_module_version": "1.2.0",
      "model_name": "LayoutModel",
      "state": {}
     },
     "d3fbfa09645942d3ba99918fa2958360": {
      "model_module": "@jupyter-widgets/controls",
      "model_module_version": "1.5.0",
      "model_name": "FloatProgressModel",
      "state": {
       "bar_style": "info",
       "layout": "IPY_MODEL_392463d3620a4a039960ef3691958b77",
       "max": 1,
       "style": "IPY_MODEL_83feaa81d08346faa342e166c83cf39a"
      }
     },
     "e2d8d3a635304aad81405d9d5b95bec7": {
      "model_module": "@jupyter-widgets/base",
      "model_module_version": "1.2.0",
      "model_name": "LayoutModel",
      "state": {
       "width": "20px"
      }
     },
     "e63ae5a55cdd445380d2288999df9c38": {
      "model_module": "@jupyter-widgets/controls",
      "model_module_version": "1.5.0",
      "model_name": "HTMLModel",
      "state": {
       "layout": "IPY_MODEL_6d929ffee2ad43d5bcb6602ff7f03909",
       "style": "IPY_MODEL_00f819ed799047a5906a7d5e61c7f216",
       "value": "0/? [00:00&lt;?, ?it/s]"
      }
     },
     "e6c5089217494a3c9e38d393f4844273": {
      "model_module": "@jupyter-widgets/output",
      "model_module_version": "1.0.0",
      "model_name": "OutputModel",
      "state": {
       "layout": "IPY_MODEL_8381733a4c7d40919c4b499ae4ea7176"
      }
     },
     "f138d85378eb4aa9870eb7fe83adb223": {
      "model_module": "@jupyter-widgets/base",
      "model_module_version": "1.2.0",
      "model_name": "LayoutModel",
      "state": {}
     }
    },
    "version_major": 2,
    "version_minor": 0
   }
  }
 },
 "nbformat": 4,
 "nbformat_minor": 4
}
